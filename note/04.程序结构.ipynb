{
 "cells": [
  {
   "cell_type": "markdown",
   "metadata": {},
   "source": [
    "# 程序结构  \n",
    "- 程序的三种结构  \n",
    "    - 顺序   \n",
    "    - 分支  \n",
    "    - 循环"
   ]
  },
  {
   "cell_type": "markdown",
   "metadata": {},
   "source": [
    "## 1. 分支结构  \n",
    "### 1.1 单向分支  \n",
    "- if...语句：\n",
    "        if 条件表达式:  \n",
    "            语句1  \n",
    "            语句2  \n",
    "            ...\n",
    "- 条件表达式就是计算记过必须为布尔值的表达式  \n",
    "- 表达式后面的冒号不能少  \n",
    "- 注意if后面出现的语句，如果属于if语句块，则必须同一个缩进等级  \n",
    "- 条件表达式结果为True执行if后面的缩进语句块 "
   ]
  },
  {
   "cell_type": "code",
   "execution_count": 3,
   "metadata": {},
   "outputs": [
    {
     "name": "stdout",
     "output_type": "stream",
     "text": [
      "先生：\n"
     ]
    }
   ],
   "source": [
    "# 单向分支\n",
    "a = 1\n",
    "if a == 1:\n",
    "    print('先生：')"
   ]
  },
  {
   "cell_type": "markdown",
   "metadata": {},
   "source": [
    "### 1.2 双向分支  \n",
    "- if...else...语句：\n",
    "        if 条件表达式:  \n",
    "            语句1  \n",
    "            语句2  \n",
    "            ...\n",
    "        else:\n",
    "            语句1\n",
    "            语句2\n",
    "            ...\n",
    "- 双向分支有两个分支，当程序执行if...else...语句的时候，一定执行if或else中的一个，也仅执行一个  \n",
    "- if和else一个层级，其余语句一个层级"
   ]
  },
  {
   "cell_type": "code",
   "execution_count": 1,
   "metadata": {},
   "outputs": [
    {
     "name": "stdout",
     "output_type": "stream",
     "text": [
      "请输入您的性别：男\n",
      "走，一起喝酒去\n"
     ]
    }
   ],
   "source": [
    "# 双向分支\n",
    "\n",
    "gender = input('请输入您的性别：')\n",
    "if gender == '男':\n",
    "    print('走，一起喝酒去')\n",
    "else:\n",
    "    print('对不起，我们不约')"
   ]
  },
  {
   "cell_type": "markdown",
   "metadata": {},
   "source": [
    "### 1.3 多路分支  \n",
    "- 很多分支的情况下，简称多路分支    \n",
    "        if 条件表达式:  \n",
    "            语句1  \n",
    "            ...  \n",
    "        elif  \n",
    "            语句1    \n",
    "            ...  \n",
    "        elif  \n",
    "            语句1   \n",
    "            ...  \n",
    "        else  \n",
    "- elif可以有多个  \n",
    "- else可选  \n",
    "- 多路分支只会执行一个"
   ]
  },
  {
   "cell_type": "code",
   "execution_count": 2,
   "metadata": {},
   "outputs": [
    {
     "name": "stdout",
     "output_type": "stream",
     "text": [
      "请输入您的成绩：67\n",
      "平\n"
     ]
    }
   ],
   "source": [
    "# 多路分支：考试成绩判断\n",
    "score = input('请输入您的成绩：')\n",
    "score = int(score)\n",
    "if score >= 90:\n",
    "    print('优秀')\n",
    "elif score >= 80 and score < 90:\n",
    "    print('良')\n",
    "elif score >= 70 and score < 80:\n",
    "    print('中')\n",
    "elif score >= 60 and score < 70:\n",
    "    print('平')\n",
    "else:\n",
    "    print('我没你这傻学生')"
   ]
  },
  {
   "cell_type": "markdown",
   "metadata": {},
   "source": [
    "## 2. 循环语句  \n",
    "- 重复执行某一个固定的动作或任务  \n",
    "- 分类  \n",
    "    - for\n",
    "    - while\n",
    "\n",
    "### 2.1 for循环  \n",
    "- 语法  \n",
    "        for 变量 in 序列:  \n",
    "            语句1  \n",
    "            语句2  \n",
    "            ...  \n",
    "- for循环中，一般用i, k, m, n, 表示"
   ]
  },
  {
   "cell_type": "code",
   "execution_count": 13,
   "metadata": {},
   "outputs": [
    {
     "name": "stdout",
     "output_type": "stream",
     "text": [
      "zhangsan\n",
      "lisi\n",
      "wangwu\n"
     ]
    }
   ],
   "source": [
    "# 列表就是一列数字huo或者其他值，一般用中括号表示\n",
    "# 列如['zhangsan', 'lisi', 'wangwu']\n",
    "\n",
    "list_one = ['zhangsan', 'lisi', 'wangwu']\n",
    "for name in list_one:\n",
    "    print(name)"
   ]
  },
  {
   "cell_type": "markdown",
   "metadata": {},
   "source": [
    "#### for else语句  \n",
    "- for循环结束的时候，有时候需要执行一些收尾工作，此时需要用到else语句  \n",
    "- else语句可选  "
   ]
  },
  {
   "cell_type": "code",
   "execution_count": 22,
   "metadata": {},
   "outputs": [
    {
     "name": "stdout",
     "output_type": "stream",
     "text": [
      "很不错哦！\n",
      "加油呀！\n",
      "已经结束了哦\n"
     ]
    }
   ],
   "source": [
    "# 打印列表中的学生\n",
    "\n",
    "for stu in ['张三','李四']:\n",
    "    if stu == '张三':\n",
    "        print('很不错哦！')\n",
    "    else:\n",
    "        print('加油呀！')\n",
    "else:\n",
    "    print('已经结束了哦')"
   ]
  },
  {
   "cell_type": "markdown",
   "metadata": {},
   "source": [
    "#### break，continue，pass  \n",
    "- break：无条件结束整个循环  \n",
    "- continue：满足条件后，结束本轮循环，继续下一轮循环  \n",
    "- pass：只是一个占位符"
   ]
  },
  {
   "cell_type": "code",
   "execution_count": 5,
   "metadata": {},
   "outputs": [
    {
     "name": "stdout",
     "output_type": "stream",
     "text": [
      "3\n",
      "4\n",
      "6\n",
      "hahaha，找到啦\n"
     ]
    }
   ],
   "source": [
    "# break语句练习\n",
    "# 确定一个数字队列是否包含数字7，只要确定就不再继续寻找\n",
    "\n",
    "dig_list = [3,4,6,7,3,23,2,4,7]\n",
    "for dig in dig_list:\n",
    "    if dig == 7:\n",
    "        print('hahaha，找到啦')\n",
    "        break\n",
    "    else:\n",
    "        print(dig)"
   ]
  },
  {
   "cell_type": "code",
   "execution_count": 24,
   "metadata": {},
   "outputs": [
    {
     "name": "stdout",
     "output_type": "stream",
     "text": [
      "2，我是偶数\n",
      "4，我是偶数\n",
      "6，我是偶数\n",
      "8，我是偶数\n",
      "10，我是偶数\n"
     ]
    }
   ],
   "source": [
    "# continue 语句练习\n",
    "# 在数字1-10中，寻找所有偶数；\n",
    "\n",
    "dig_list = [1,2,3,4,5,6,7,8,9,10]\n",
    "for dig in dig_list:\n",
    "    if dig % 2 == 0:\n",
    "        print('{}，我是偶数'.format(dig))"
   ]
  },
  {
   "cell_type": "code",
   "execution_count": 25,
   "metadata": {},
   "outputs": [
    {
     "name": "stdout",
     "output_type": "stream",
     "text": [
      "你还小\n"
     ]
    }
   ],
   "source": [
    "# pass 语句练习\n",
    "\n",
    "age = 19\n",
    "if age < 19:\n",
    "    pass\n",
    "else:\n",
    "    print('你还小')"
   ]
  },
  {
   "cell_type": "markdown",
   "metadata": {},
   "source": [
    "#### range函数  \n",
    "- 生成有序数列  \n",
    "- 生成数字队列可以定制  \n",
    "- range生成的序列两个数字是左包括右不包括  \n",
    "- randint是特例，它左右都包括"
   ]
  },
  {
   "cell_type": "code",
   "execution_count": 17,
   "metadata": {
    "scrolled": true
   },
   "outputs": [
    {
     "name": "stdout",
     "output_type": "stream",
     "text": [
      "1\n",
      "2\n",
      "3\n",
      "4\n",
      "5\n"
     ]
    }
   ],
   "source": [
    "# range 函数练习一\n",
    "# 生成一个1到5的数字序列\n",
    "\n",
    "dig_list = range(1,6)\n",
    "for dig in dig_list:\n",
    "    print(dig)\n",
    "\n",
    "# 另外的一种表达形式\n",
    "# for dig in range(1,6):\n",
    "#     print(dig)"
   ]
  },
  {
   "cell_type": "markdown",
   "metadata": {},
   "source": [
    "### 2.2 while循环  \n",
    "- 一个循环语句  \n",
    "- 表示条件成立的时候就循环，适用于不知道具体循环次数，但能确定在某个条件成立的情况下就循环  \n",
    "- while的语法  \n",
    "        while 条件表达式:  \n",
    "            语句块1  \n",
    "        else:  \n",
    "            语句块2"
   ]
  },
  {
   "cell_type": "code",
   "execution_count": 6,
   "metadata": {},
   "outputs": [
    {
     "name": "stdout",
     "output_type": "stream",
     "text": [
      "第1年的本息和是10670.0\n",
      "第2年的本息和是11384.89\n",
      "第3年的本息和是12147.677629999998\n",
      "第4年的本息和是12961.572031209998\n",
      "第5年的本息和是13829.997357301068\n",
      "第6年的本息和是14756.607180240238\n",
      "第7年的本息和是15745.299861316334\n",
      "第8年的本息和是16800.23495202453\n",
      "第9年的本息和是17925.85069381017\n",
      "第10年的本息和是19126.88269029545\n",
      "第11年的本息和是20408.383830545245\n"
     ]
    }
   ],
   "source": [
    "# 如果年利率是6.7%，每年按复利计算，多少年本金翻倍\n",
    "\n",
    "benjin = 10000\n",
    "year = 0\n",
    "while benjin < 20000:\n",
    "    benjin = benjin * (1 + 0.067)\n",
    "    year = year + 1\n",
    "    print('第{0}年的本息和是{1}'.format(year, benjin))"
   ]
  }
 ],
 "metadata": {
  "kernelspec": {
   "display_name": "Python 3",
   "language": "python",
   "name": "python3"
  },
  "language_info": {
   "codemirror_mode": {
    "name": "ipython",
    "version": 3
   },
   "file_extension": ".py",
   "mimetype": "text/x-python",
   "name": "python",
   "nbconvert_exporter": "python",
   "pygments_lexer": "ipython3",
   "version": "3.7.3"
  }
 },
 "nbformat": 4,
 "nbformat_minor": 2
}
