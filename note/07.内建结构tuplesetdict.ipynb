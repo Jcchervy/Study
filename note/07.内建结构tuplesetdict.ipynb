{
 "cells": [
  {
   "cell_type": "markdown",
   "metadata": {},
   "source": [
    "## 2.tuple（元组）\n",
    "- 元组可以看成是一个不可更改的列表\n",
    "- 元组的特征：\n",
    "    - 元组是有序列表；\n",
    "    - 元组的数据可以访问，不能修改；列表中的所有特征，除了可以修改外，元组都具有；"
   ]
  },
  {
   "cell_type": "markdown",
   "metadata": {},
   "source": [
    "### 2.1 创建元组"
   ]
  },
  {
   "cell_type": "code",
   "execution_count": 6,
   "metadata": {},
   "outputs": [
    {
     "name": "stdout",
     "output_type": "stream",
     "text": [
      "<class 'tuple'>\n",
      "<class 'tuple'>\n",
      "<class 'tuple'>\n",
      "(1, 2, 3, 4, 5)\n",
      "<class 'tuple'>\n",
      "(1, 2, 3, 4, 5)\n"
     ]
    }
   ],
   "source": [
    "# 创建空元组\n",
    "t = ()\n",
    "print(type(t))\n",
    "\n",
    "# 创建只有一个值的元组\n",
    "t = (1,)          # 括号可以不要；如果不带逗号，会将变量当初整数\n",
    "print(type(t))\n",
    "\n",
    "# 创建多个值\n",
    "t = (1,2,3,4,5)\n",
    "print(type(t))    # 括号可以不要；\n",
    "print(t)\n",
    "\n",
    "# 使用其他结构创建\n",
    "l = [1,2,3,4,5]\n",
    "t = tuple(l)\n",
    "print(type(t)) \n",
    "print(t)"
   ]
  },
  {
   "cell_type": "markdown",
   "metadata": {},
   "source": [
    "### 2.2 元组的操作"
   ]
  },
  {
   "cell_type": "code",
   "execution_count": 7,
   "metadata": {},
   "outputs": [
    {
     "name": "stdout",
     "output_type": "stream",
     "text": [
      "3\n"
     ]
    }
   ],
   "source": [
    "# 索引\n",
    "t = (1,2,3,4,5)\n",
    "print(t[2])"
   ]
  },
  {
   "cell_type": "code",
   "execution_count": 8,
   "metadata": {},
   "outputs": [
    {
     "name": "stdout",
     "output_type": "stream",
     "text": [
      "(2, 3)\n",
      "(1, 2, 3, 4, 5)\n",
      "(2, 3, 4, 5)\n",
      "(1, 2, 3)\n"
     ]
    }
   ],
   "source": [
    "# 切片\n",
    "t = (1,2,3,4,5)\n",
    "print(t[1:3])\n",
    "print(t[:])\n",
    "print(t[1:])\n",
    "print(t[:3])"
   ]
  },
  {
   "cell_type": "code",
   "execution_count": 9,
   "metadata": {},
   "outputs": [
    {
     "name": "stdout",
     "output_type": "stream",
     "text": [
      "(1, 2, 3, 4, 5, 6)\n"
     ]
    }
   ],
   "source": [
    "# 系列相加\n",
    "t1 = (1,2,3)\n",
    "t2 = (4,5,6)\n",
    "print(t1 + t2)"
   ]
  },
  {
   "cell_type": "code",
   "execution_count": 10,
   "metadata": {},
   "outputs": [
    {
     "name": "stdout",
     "output_type": "stream",
     "text": [
      "(1, 2, 3, 1, 2, 3, 1, 2, 3)\n"
     ]
    }
   ],
   "source": [
    "# 元组相乘\n",
    "t = (1,2,3)\n",
    "print(t * 3)"
   ]
  },
  {
   "cell_type": "code",
   "execution_count": 11,
   "metadata": {},
   "outputs": [
    {
     "name": "stdout",
     "output_type": "stream",
     "text": [
      "Yes\n"
     ]
    }
   ],
   "source": [
    "# 成员检测\n",
    "t = (1,2,3)\n",
    "if 2 in t:\n",
    "    print('Yes')\n",
    "else:\n",
    "    print('No')"
   ]
  },
  {
   "cell_type": "code",
   "execution_count": 14,
   "metadata": {},
   "outputs": [
    {
     "name": "stdout",
     "output_type": "stream",
     "text": [
      "1  2  3  I  LOVE  YOU  "
     ]
    }
   ],
   "source": [
    "# 元组遍历，一般采用for\n",
    "\n",
    "# 单层元组的遍历\n",
    "t =(1,2,3,'I','LOVE','YOU')\n",
    "for i in t:\n",
    "    print(i, end = '  ')"
   ]
  },
  {
   "cell_type": "code",
   "execution_count": 1,
   "metadata": {},
   "outputs": [
    {
     "name": "stdout",
     "output_type": "stream",
     "text": [
      "((1, 2, 3), (4, 5, 6), ('I', 'LOVE', 'YOU'))\n",
      "((1, 2, 3), (4, 5, 6), ('I', 'LOVE', 'YOU'))\n",
      "((1, 2, 3), (4, 5, 6), ('I', 'LOVE', 'YOU'))\n",
      "1  4  I  \n",
      "2  5  LOVE  \n",
      "3  6  YOU  "
     ]
    }
   ],
   "source": [
    "# 双层元组的遍历\n",
    "t = ((1,2,3),(4,5,6),('I','LOVE','YOU'))\n",
    "for i in t:\n",
    "    print(t)\n",
    "for k,m,n in t:\n",
    "    print(k, end = '  ')\n",
    "print()\n",
    "for k,m,n in t:\n",
    "    print(m, end = '  ')\n",
    "print()\n",
    "for k,m,n in t:\n",
    "    print(n, end = '  ')"
   ]
  },
  {
   "cell_type": "markdown",
   "metadata": {},
   "source": [
    "### 2.3 元组的函数\n",
    "- 基本与列表一样，除修改列表内容的函数"
   ]
  },
  {
   "cell_type": "code",
   "execution_count": 1,
   "metadata": {},
   "outputs": [
    {
     "data": {
      "text/plain": [
       "5"
      ]
     },
     "execution_count": 1,
     "metadata": {},
     "output_type": "execute_result"
    }
   ],
   "source": [
    "# len:获取元组的长度\n",
    "t = (1,2,3,4,5)\n",
    "len(t)"
   ]
  },
  {
   "cell_type": "code",
   "execution_count": 2,
   "metadata": {},
   "outputs": [
    {
     "name": "stdout",
     "output_type": "stream",
     "text": [
      "5\n",
      "1\n"
     ]
    }
   ],
   "source": [
    "# max、min:最大值、最小值\n",
    "t = (1,1,2,3,4,5,5)\n",
    "print(max(t))\n",
    "print(min(t))"
   ]
  },
  {
   "cell_type": "code",
   "execution_count": 3,
   "metadata": {},
   "outputs": [
    {
     "name": "stdout",
     "output_type": "stream",
     "text": [
      "(1, 2, 3, 4, 5)\n"
     ]
    }
   ],
   "source": [
    "# tuple:转化或创建元组\n",
    "l = [1,2,3,4,5]\n",
    "t = tuple(l)\n",
    "print(t)"
   ]
  },
  {
   "cell_type": "code",
   "execution_count": 5,
   "metadata": {},
   "outputs": [
    {
     "name": "stdout",
     "output_type": "stream",
     "text": [
      "3\n"
     ]
    }
   ],
   "source": [
    "# count:计算指定远元素出现的次数\n",
    "t = (2,1,3,4,2,5,1,3,5,1)\n",
    "print(t.count(1))"
   ]
  },
  {
   "cell_type": "code",
   "execution_count": 6,
   "metadata": {},
   "outputs": [
    {
     "name": "stdout",
     "output_type": "stream",
     "text": [
      "5\n"
     ]
    }
   ],
   "source": [
    "# index:求指定元素在元组中的索引位置\n",
    "t = (2,1,3,4,2,5,1,3,5,1)\n",
    "print(t.index(5))"
   ]
  },
  {
   "cell_type": "markdown",
   "metadata": {},
   "source": [
    "### 2.4 元组的交互值\n",
    "- 两个变量交换值"
   ]
  },
  {
   "cell_type": "code",
   "execution_count": 8,
   "metadata": {},
   "outputs": [
    {
     "name": "stdout",
     "output_type": "stream",
     "text": [
      "1\n",
      "3\n",
      "********************\n",
      "3\n",
      "1\n"
     ]
    }
   ],
   "source": [
    "a = 1\n",
    "b = 3\n",
    "print(a)\n",
    "print(b)\n",
    "print('*'*20)\n",
    "a,b = b,a\n",
    "print(a)\n",
    "print(b)"
   ]
  },
  {
   "cell_type": "markdown",
   "metadata": {},
   "source": [
    "## 3.set（集合）\n",
    "- 集合中的元素之间是无序的，无法使用索引和分片\n",
    "- 集合中任何两个元素都认为是不相同的，可以用来排除重复数据"
   ]
  },
  {
   "cell_type": "markdown",
   "metadata": {},
   "source": [
    "### 3.1 集合的定义"
   ]
  },
  {
   "cell_type": "code",
   "execution_count": 10,
   "metadata": {},
   "outputs": [
    {
     "name": "stdout",
     "output_type": "stream",
     "text": [
      "<class 'set'>\n",
      "{1, 2, 3, 4, 5, 6, 7}\n"
     ]
    }
   ],
   "source": [
    "s = {1,2,3,4,5,6,7}\n",
    "print(type(s))\n",
    "print(s)"
   ]
  },
  {
   "cell_type": "code",
   "execution_count": 11,
   "metadata": {},
   "outputs": [
    {
     "name": "stdout",
     "output_type": "stream",
     "text": [
      "<class 'dict'>\n"
     ]
    }
   ],
   "source": [
    "# 如果只是用大括号定义，则定义的是一个字典类型\n",
    "d = {}\n",
    "print(type(d))"
   ]
  },
  {
   "cell_type": "markdown",
   "metadata": {},
   "source": [
    "### 3.2 集合的操作"
   ]
  },
  {
   "cell_type": "markdown",
   "metadata": {},
   "source": [
    "#### 成员检测"
   ]
  },
  {
   "cell_type": "code",
   "execution_count": 12,
   "metadata": {},
   "outputs": [
    {
     "name": "stdout",
     "output_type": "stream",
     "text": [
      "{0, 2, 5, 'YOU', 'I', 'LOVE'}\n",
      "yes\n",
      "no\n"
     ]
    }
   ],
   "source": [
    "# in,not in\n",
    "s = {5,2,0,'I','LOVE','YOU'}\n",
    "print(s)\n",
    "\n",
    "if 'I' in s:\n",
    "    print('yes')\n",
    "if 'N' not in s:\n",
    "    print('no')"
   ]
  },
  {
   "cell_type": "markdown",
   "metadata": {},
   "source": [
    "#### 集合的遍历操作"
   ]
  },
  {
   "cell_type": "code",
   "execution_count": 14,
   "metadata": {},
   "outputs": [
    {
     "name": "stdout",
     "output_type": "stream",
     "text": [
      "0  2  5  YOU  I  LOVE  "
     ]
    }
   ],
   "source": [
    "# for循环\n",
    "s = {5,2,0,'I','LOVE','YOU'}\n",
    "for i in s:\n",
    "    print(i, end = '  ')"
   ]
  },
  {
   "cell_type": "code",
   "execution_count": 17,
   "metadata": {},
   "outputs": [
    {
     "name": "stdout",
     "output_type": "stream",
     "text": [
      "4 --> 5 --> 6\n",
      "I --> LOVE --> YOU\n",
      "1 --> 2 --> 3\n",
      "(4, 5, 6)\n",
      "('I', 'LOVE', 'YOU')\n",
      "(1, 2, 3)\n"
     ]
    }
   ],
   "source": [
    "# 带有元组的集合遍历\n",
    "s = {(1,2,3),('I','LOVE','YOU'),(4,5,6)}\n",
    "for k,m,n in s:\n",
    "    print(k, '-->', m, '-->', n)\n",
    "\n",
    "for k in s:\n",
    "    print(k)"
   ]
  },
  {
   "cell_type": "markdown",
   "metadata": {},
   "source": [
    "### 3.3 集合的内涵"
   ]
  },
  {
   "cell_type": "code",
   "execution_count": 18,
   "metadata": {},
   "outputs": [
    {
     "name": "stdout",
     "output_type": "stream",
     "text": [
      "{1, 2, 3, 4, 5, 6, 7, 8}\n"
     ]
    }
   ],
   "source": [
    "# 普通集合内涵\n",
    "s = {1,2,3,4,4,5,6,7,7,8}    # 集合初始化后会自动过滤重复的元素\n",
    "print(s)"
   ]
  },
  {
   "cell_type": "code",
   "execution_count": 21,
   "metadata": {},
   "outputs": [
    {
     "name": "stdout",
     "output_type": "stream",
     "text": [
      "{8, 2, 4, 6}\n"
     ]
    }
   ],
   "source": [
    "# 带条件的集合内涵\n",
    "s = {1,2,3,4,4,5,6,7,7,8}\n",
    "ss = {i for i in s if i % 2 == 0}\n",
    "print(ss)"
   ]
  },
  {
   "cell_type": "code",
   "execution_count": 22,
   "metadata": {},
   "outputs": [
    {
     "name": "stdout",
     "output_type": "stream",
     "text": [
      "{'YOUYOUYOU', 'YOUYOUYOUYOU', 'II', 'YOU', 'LOVELOVELOVE', 'LOVELOVELOVELOVE', 'LOVELOVE', 'IIII', 'I', 'YOUYOU', 'III', 'LOVE'}\n"
     ]
    }
   ],
   "source": [
    "# 多循环的集合内涵\n",
    "s1 = {1,2,3,4}\n",
    "s2 = {'I','LOVE','YOU'}\n",
    "s = {m * n for m in s1 for n in s2}\n",
    "print(s)"
   ]
  },
  {
   "cell_type": "markdown",
   "metadata": {},
   "source": [
    "### 3.4 集合的函数"
   ]
  },
  {
   "cell_type": "code",
   "execution_count": 23,
   "metadata": {},
   "outputs": [
    {
     "name": "stdout",
     "output_type": "stream",
     "text": [
      "7\n",
      "7\n",
      "1\n"
     ]
    }
   ],
   "source": [
    "# len,max,min:跟列表和元组基本一致\n",
    "s = {1,2,3,4,5,6,7}\n",
    "print(len(s))\n",
    "print(max(s))\n",
    "print(min(s))"
   ]
  },
  {
   "cell_type": "code",
   "execution_count": 24,
   "metadata": {},
   "outputs": [
    {
     "name": "stdout",
     "output_type": "stream",
     "text": [
      "{1, 2, 3, 4, 5, 6, 7}\n"
     ]
    }
   ],
   "source": [
    "# set:生成一个集合\n",
    "l = [1,2,3,3,4,5,6,6,7]\n",
    "s = set(l)\n",
    "print(s)"
   ]
  },
  {
   "cell_type": "code",
   "execution_count": 25,
   "metadata": {},
   "outputs": [
    {
     "name": "stdout",
     "output_type": "stream",
     "text": [
      "{1, 2}\n"
     ]
    }
   ],
   "source": [
    "# add:向集合内添加元素\n",
    "s = {1}\n",
    "s.add(2)\n",
    "print(s)"
   ]
  },
  {
   "cell_type": "code",
   "execution_count": 26,
   "metadata": {},
   "outputs": [
    {
     "name": "stdout",
     "output_type": "stream",
     "text": [
      "set()\n"
     ]
    }
   ],
   "source": [
    "# clear:清除集合中的元素\n",
    "s = {1,2,3,4}\n",
    "s.clear()\n",
    "print(s)"
   ]
  },
  {
   "cell_type": "code",
   "execution_count": 27,
   "metadata": {},
   "outputs": [
    {
     "name": "stdout",
     "output_type": "stream",
     "text": [
      "{1, 2, 3, 4}\n"
     ]
    }
   ],
   "source": [
    "# copy:拷贝\n",
    "s = {1,2,3,4}\n",
    "s1 = s.copy()\n",
    "print(s1)"
   ]
  },
  {
   "cell_type": "code",
   "execution_count": 30,
   "metadata": {},
   "outputs": [
    {
     "name": "stdout",
     "output_type": "stream",
     "text": [
      "{1, 2, 3, 4}\n"
     ]
    }
   ],
   "source": [
    "# remove:移除,如果移除的值不存在，则会报错\n",
    "# discard:移除,如果移除的值不存在，不会报错\n",
    "\n",
    "s = {1,2,3,4}\n",
    "# s.remove(5)   会报错\n",
    "s.discard(5)\n",
    "print(s)"
   ]
  },
  {
   "cell_type": "code",
   "execution_count": 31,
   "metadata": {},
   "outputs": [
    {
     "name": "stdout",
     "output_type": "stream",
     "text": [
      "{2, 3, 4, 5, 6, 7}\n"
     ]
    }
   ],
   "source": [
    "# pop:随机移除一个元素\n",
    "s = {1,2,3,4,5,6,7}\n",
    "s.pop()\n",
    "print(s)"
   ]
  },
  {
   "cell_type": "code",
   "execution_count": 35,
   "metadata": {},
   "outputs": [
    {
     "name": "stdout",
     "output_type": "stream",
     "text": [
      "{4, 5}\n",
      "{1, 2, 3}\n",
      "{1, 2, 3, 4, 5, 6, 7, 8}\n",
      "True\n"
     ]
    }
   ],
   "source": [
    "# 集合函数\n",
    "# intersection:交集\n",
    "# difference:差集\n",
    "# union:并集\n",
    "# issubset:检查一个集合是否是另一个的子集\n",
    "# issuperset:检查一个集合是否是另一个的超级\n",
    "\n",
    "s1 = {1,2,3,4,5}\n",
    "s2 = {4,5,6,7,8}\n",
    "s3 = {1,2}\n",
    "print(s1.intersection(s2))\n",
    "print(s1.difference(s2))          # 差集也可以使用“-”号，例如：ss = s1 - s2\n",
    "print(s1.union(s2))\n",
    "print(s3.issubset(s1))"
   ]
  },
  {
   "cell_type": "markdown",
   "metadata": {},
   "source": [
    "### 3.5 frozenset:冰冻集合\n",
    "- 冰冻集合是一种特殊的集合，不可以进行任何修改"
   ]
  },
  {
   "cell_type": "code",
   "execution_count": 36,
   "metadata": {},
   "outputs": [
    {
     "name": "stdout",
     "output_type": "stream",
     "text": [
      "<class 'frozenset'>\n"
     ]
    }
   ],
   "source": [
    "# 创建\n",
    "s = frozenset()\n",
    "print(type(s))"
   ]
  },
  {
   "cell_type": "markdown",
   "metadata": {},
   "source": [
    "## 4.dict（字典）\n",
    "- 字典是一种没有顺序的组合数据，没有索引和分片\n",
    "- 数值以键值对的形式出现，即kv对\n",
    "    - key：必须是可哈希的值，比如int、string、float、tuple；list、set、dict不行\n",
    "    - value：可以是任何值"
   ]
  },
  {
   "cell_type": "markdown",
   "metadata": {},
   "source": [
    "### 4.1 字典的创建"
   ]
  },
  {
   "cell_type": "code",
   "execution_count": 42,
   "metadata": {},
   "outputs": [
    {
     "name": "stdout",
     "output_type": "stream",
     "text": [
      "<class 'dict'>\n",
      "<class 'dict'>\n",
      "{'one': 1, 'two': 2, 'three': 3}\n"
     ]
    }
   ],
   "source": [
    "d = {}\n",
    "print(type(d))\n",
    "\n",
    "d = dict()\n",
    "print(type(d))\n",
    "\n",
    "# 创建字典时，每一组数据用冒号隔开，每一对键值用逗号隔开\n",
    "d = {'one':1, 'two':2, 'three':3}\n",
    "print(d)\n",
    "\n",
    "d = dict({'one':1, 'two':2, 'three':3})\n",
    "d = dict(one = 1, two = 2, three = 3)"
   ]
  },
  {
   "cell_type": "markdown",
   "metadata": {},
   "source": [
    "### 4.2 字典常见操作"
   ]
  },
  {
   "cell_type": "code",
   "execution_count": 43,
   "metadata": {},
   "outputs": [
    {
     "name": "stdout",
     "output_type": "stream",
     "text": [
      "1\n"
     ]
    }
   ],
   "source": [
    "# 访问数据\n",
    "d = {'one':1, 'two':2, 'three':3}\n",
    "print(d['one'])    # 中括号内的是键值"
   ]
  },
  {
   "cell_type": "code",
   "execution_count": 44,
   "metadata": {},
   "outputs": [
    {
     "name": "stdout",
     "output_type": "stream",
     "text": [
      "{'two': 2, 'three': 3}\n"
     ]
    }
   ],
   "source": [
    "# 删除数据\n",
    "d = {'one':1, 'two':2, 'three':3}\n",
    "del d['one']\n",
    "print(d)"
   ]
  },
  {
   "cell_type": "code",
   "execution_count": 45,
   "metadata": {},
   "outputs": [
    {
     "name": "stdout",
     "output_type": "stream",
     "text": [
      "key\n"
     ]
    }
   ],
   "source": [
    "# in/not in:成员检测\n",
    "# 成员检测检测的是key的内容\n",
    "d = {'one':1, 'two':2, 'three':3}\n",
    "if 2 in d:\n",
    "    print('value')\n",
    "if 'two' in d:\n",
    "    print('key')"
   ]
  },
  {
   "cell_type": "code",
   "execution_count": 48,
   "metadata": {},
   "outputs": [
    {
     "name": "stdout",
     "output_type": "stream",
     "text": [
      "one 1\n",
      "two 2\n",
      "three 3\n",
      "one 1\n",
      "two 2\n",
      "three 3\n",
      "1\n",
      "2\n",
      "3\n",
      "one --> 1\n",
      "two --> 2\n",
      "three --> 3\n"
     ]
    }
   ],
   "source": [
    "# 遍历\n",
    "d = {'one':1, 'two':2, 'three':3}\n",
    "\n",
    "for k in d:\n",
    "    print(k, d[k])\n",
    "\n",
    "# 推荐使用下列方式遍历字典内容\n",
    "for k in d.keys():\n",
    "    print(k, d[k])\n",
    "    \n",
    "for v in d.values():\n",
    "    print(v)\n",
    "    \n",
    "for k,v in d.items():\n",
    "    print(k,'-->', v)"
   ]
  },
  {
   "cell_type": "markdown",
   "metadata": {},
   "source": [
    "### 4.3字典生成式"
   ]
  },
  {
   "cell_type": "code",
   "execution_count": 50,
   "metadata": {},
   "outputs": [
    {
     "name": "stdout",
     "output_type": "stream",
     "text": [
      "{'one': 1, 'three': 3}\n"
     ]
    }
   ],
   "source": [
    "d = {'one':1, 'two':2, 'three':3}\n",
    "dd = {k:v for k,v in d.items() if v % 2 == 1}\n",
    "print(dd)"
   ]
  },
  {
   "cell_type": "markdown",
   "metadata": {},
   "source": [
    "### 4.4 字典相关函数"
   ]
  },
  {
   "cell_type": "code",
   "execution_count": 52,
   "metadata": {},
   "outputs": [
    {
     "name": "stdout",
     "output_type": "stream",
     "text": [
      "{'one': 1, 'two': 2, 'three': 3}\n"
     ]
    }
   ],
   "source": [
    "# 通用函数：len()、max()、min()、dict()\n",
    "# str():返回字典的字符串格式\n",
    "d = {'one':1, 'two':2, 'three':3}\n",
    "print(str(d))"
   ]
  },
  {
   "cell_type": "code",
   "execution_count": 54,
   "metadata": {},
   "outputs": [
    {
     "name": "stdout",
     "output_type": "stream",
     "text": [
      "<class 'dict_items'>\n",
      "dict_items([('one', 1), ('two', 2), ('three', 3)])\n"
     ]
    }
   ],
   "source": [
    "# clear:清空字典\n",
    "# items：返回字典的键值对组成的元组格式\n",
    "\n",
    "d = {'one':1, 'two':2, 'three':3}\n",
    "i = d.items()\n",
    "print(type(i))\n",
    "print(i)"
   ]
  },
  {
   "cell_type": "code",
   "execution_count": 55,
   "metadata": {},
   "outputs": [
    {
     "name": "stdout",
     "output_type": "stream",
     "text": [
      "<class 'dict_keys'>\n",
      "dict_keys(['one', 'two', 'three'])\n",
      "<class 'dict_values'>\n",
      "dict_values([1, 2, 3])\n"
     ]
    }
   ],
   "source": [
    "d = {'one':1, 'two':2, 'three':3}\n",
    "# keys:返回字典的键组成的一个结构\n",
    "k = d.keys()\n",
    "print(type(k))\n",
    "print(k)\n",
    "\n",
    "# values:返回字典的键组成的一个结构\n",
    "v = d.values()\n",
    "print(type(v))\n",
    "print(v)"
   ]
  },
  {
   "cell_type": "code",
   "execution_count": 57,
   "metadata": {},
   "outputs": [
    {
     "name": "stdout",
     "output_type": "stream",
     "text": [
      "2\n",
      "None 4\n"
     ]
    }
   ],
   "source": [
    "# get:根据指定键返回值，可以设置默认值\n",
    "d = {'one':1, 'two':2, 'three':3}\n",
    "print(d.get('two'))\n",
    "\n",
    "print(d.get('four'),4)"
   ]
  },
  {
   "cell_type": "code",
   "execution_count": 58,
   "metadata": {},
   "outputs": [
    {
     "name": "stdout",
     "output_type": "stream",
     "text": [
      "{'I': 'Yes', 'LOVE': 'Yes', 'YOU': 'Yes'}\n"
     ]
    }
   ],
   "source": [
    "# fromkeys:使用指定的序列作为键，使用一个值作为字典的所有键的值\n",
    "l = ['I','LOVE','YOU']\n",
    "d = dict.fromkeys(l,'Yes')\n",
    "print(d)"
   ]
  }
 ],
 "metadata": {
  "kernelspec": {
   "display_name": "Python 3",
   "language": "python",
   "name": "python3"
  },
  "language_info": {
   "codemirror_mode": {
    "name": "ipython",
    "version": 3
   },
   "file_extension": ".py",
   "mimetype": "text/x-python",
   "name": "python",
   "nbconvert_exporter": "python",
   "pygments_lexer": "ipython3",
   "version": "3.7.3"
  }
 },
 "nbformat": 4,
 "nbformat_minor": 2
}
