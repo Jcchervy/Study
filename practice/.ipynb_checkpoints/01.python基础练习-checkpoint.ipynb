{
 "cells": [
  {
   "cell_type": "markdown",
   "metadata": {},
   "source": [
    "#### 输入用户名并且打印“你好，姓名”"
   ]
  },
  {
   "cell_type": "code",
   "execution_count": 6,
   "metadata": {},
   "outputs": [
    {
     "name": "stdout",
     "output_type": "stream",
     "text": [
      "请输入您的姓名4\n",
      "你好， 4\n"
     ]
    }
   ],
   "source": [
    "name = input('请输入您的姓名')\n",
    "print('你好，', name)"
   ]
  },
  {
   "cell_type": "markdown",
   "metadata": {},
   "source": [
    "#### 输入1-100之间的正整数，输入正确提示“Yes”，输入错误提示“No”"
   ]
  },
  {
   "cell_type": "code",
   "execution_count": 5,
   "metadata": {},
   "outputs": [
    {
     "name": "stdout",
     "output_type": "stream",
     "text": [
      "请输入13、\n",
      "No\n"
     ]
    }
   ],
   "source": [
    "i = input('请输入')\n",
    "if i.isdigit():\n",
    "    i = int(i)\n",
    "    if 1 <= i <= 100:\n",
    "        print('Yes')\n",
    "        pass\n",
    "    else:\n",
    "        print('No')\n",
    "else:\n",
    "    print('No')"
   ]
  },
  {
   "cell_type": "code",
   "execution_count": null,
   "metadata": {},
   "outputs": [],
   "source": []
  }
 ],
 "metadata": {
  "kernelspec": {
   "display_name": "Python 3",
   "language": "python",
   "name": "python3"
  },
  "language_info": {
   "codemirror_mode": {
    "name": "ipython",
    "version": 3
   },
   "file_extension": ".py",
   "mimetype": "text/x-python",
   "name": "python",
   "nbconvert_exporter": "python",
   "pygments_lexer": "ipython3",
   "version": "3.7.3"
  }
 },
 "nbformat": 4,
 "nbformat_minor": 2
}
