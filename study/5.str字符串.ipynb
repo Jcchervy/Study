{
 "cells": [
  {
   "cell_type": "markdown",
   "metadata": {},
   "source": [
    "# 字符串str  \n",
    "- str  \n",
    "- 转义字符  \n",
    "- 格式化  \n",
    "- 内建函数  \n",
    "\n",
    "## 字符串  \n",
    "- 表示文字信息  \n",
    "- 用单引号，双引号，三引号括起来"
   ]
  },
  {
   "cell_type": "code",
   "execution_count": 2,
   "metadata": {},
   "outputs": [
    {
     "name": "stdout",
     "output_type": "stream",
     "text": [
      "\n",
      "I\n",
      "Love\n",
      "You\n",
      "\n"
     ]
    }
   ],
   "source": [
    "s = '''\n",
    "I\n",
    "Love\n",
    "You\n",
    "'''\n",
    "print(s)"
   ]
  },
  {
   "cell_type": "markdown",
   "metadata": {},
   "source": [
    "## 转义字符  \n",
    "- 用一个特殊的方法表示出一系列不方便写出的内容，比如回车键，换行符，退格键  \n",
    "- 借助反斜杠字符，一旦字符中出现反斜杠，则反斜杠后面一个或者几个字符表示已经不是原来的意义了，进行了转义  \n",
    "- 在字符串中，一旦出现反斜杠就要加倍小心，可能有转义字符出现  \n",
    "- 不同操作系统换行操作有不同的表示  \n",
    "    - Windows：\\n  \n",
    "    - Linux：\\r\\n  \n",
    "- 常用的转义字符：  \n",
    "    - \\\\    (在行尾时)：续行符\n",
    "    - \\\\\\\t反斜杠符号  \n",
    "    - \\\\'\t单引号  \n",
    "    - \\\\\"\t双引号  \n",
    "    - \\\\a\t响铃  \n",
    "    - \\\\b\t退格(Backspace)  \n",
    "    - \\\\e\t转义  \n",
    "    - \\\\000\t空  \n",
    "    - \\\\n\t换行  \n",
    "    - \\\\v\t纵向制表符  \n",
    "    - \\\\t\t横向制表符  \n",
    "    - \\\\r\t回车  \n",
    "    - \\\\f\t换页  \n",
    "    - \\\\oyy\t八进制数，yy代表的字符，例如：\\o12代表换行  \n",
    "    - \\\\xyy\t十六进制数，yy代表的字符，例如：\\x0a代表换行  \n",
    "    - \\\\other\t其它的字符以普通格式输出  "
   ]
  },
  {
   "cell_type": "code",
   "execution_count": 18,
   "metadata": {},
   "outputs": [
    {
     "name": "stdout",
     "output_type": "stream",
     "text": [
      "Let's Go\n",
      "Let's Go\n",
      "c:\\User\\Jcchervy\n",
      "I\n",
      "Love\n",
      "You\n"
     ]
    }
   ],
   "source": [
    "# 转义字符的案例\n",
    "s = 'Let\\'s Go'\n",
    "print(s)\n",
    "\n",
    "# 使用单双引号嵌套\n",
    "s = \"Let's Go\"\n",
    "print(s)\n",
    "\n",
    "# 表示斜杠\n",
    "s = \"c:\\\\User\\\\Jcchervy\"\n",
    "print(s)\n",
    "\n",
    "# 回车换行\n",
    "s = \"I\\nLove\\nYou\"\n",
    "print(s)"
   ]
  },
  {
   "cell_type": "code",
   "execution_count": 2,
   "metadata": {},
   "outputs": [
    {
     "name": "stdout",
     "output_type": "stream",
     "text": [
      "hahha\n"
     ]
    }
   ],
   "source": [
    "# 单个斜杠的用法\n",
    "# 在python里，单个反斜杠表示此行的结束，出于美观，需要下一行继续\n",
    "# 理论上应该写成def myDemo(int x, int y, int z):\n",
    "\n",
    "def myDemo(x, \\\n",
    "           y, \\\n",
    "           z,):\n",
    "    print('hahha')\n",
    "myDemo(1,2,3)"
   ]
  },
  {
   "cell_type": "markdown",
   "metadata": {},
   "source": [
    "## 格式化  \n",
    "- 把字符串按一定的格式打印或者填充  \n",
    "- 格式化的分类：  \n",
    "    - 传统格式化  \n",
    "    - format  \n",
    "\n",
    "### 字符串的传统格式化方法  \n",
    "- 使用%进行格式化  \n",
    "- %（百分号）也叫占位符  \n",
    "    - %c\t格式化字符及其ASCII码  \n",
    "    - %s\t格式化字符串  \n",
    "    - %d\t格式化整数  \n",
    "    - %u\t格式化无符号整型  \n",
    "    - %o\t格式化无符号八进制数  \n",
    "    - %x\t格式化无符号十六进制数  \n",
    "    - %X\t格式化无符号十六进制数（大写）  \n",
    "    - %f\t格式化浮点数字，可指定小数点后的精度  \n",
    "    - %e\t用科学计数法格式化浮点数  \n",
    "    - %E\t作用同%e，用科学计数法格式化浮点数  \n",
    "    - %g\t%f和%e的简写  \n",
    "    - %G\t%f和%E的简写  \n",
    "    - %p\t用十六进制数格式化变量的地址  \n",
    "    - 格式字符前边出现整数表示占位符所占位置的宽度  \n",
    "    - 格式字符前边出现‘-’表示左对齐  \n",
    "    - 格式字符前边出现‘+’表示有对齐  \n",
    "    - 0：位数不足用‘0’补充  \n",
    "    - width表示宽度  \n",
    "    - pricision精度\n"
   ]
  },
  {
   "cell_type": "code",
   "execution_count": 7,
   "metadata": {},
   "outputs": [
    {
     "name": "stdout",
     "output_type": "stream",
     "text": [
      "I Love %s\n",
      "I Love 张三\n",
      "I Love 李四\n",
      "I Love 王五\n"
     ]
    }
   ],
   "source": [
    "# %s 表示简单的字符串\n",
    "# 占位符可以单独使用\n",
    "i = 'I Love %s'\n",
    "print(i)\n",
    "print(i%'张三')\n",
    "print(i%'李四')\n"
   ]
  },
  {
   "cell_type": "code",
   "execution_count": 8,
   "metadata": {},
   "outputs": [
    {
     "name": "stdout",
     "output_type": "stream",
     "text": [
      "I Love 王五\n",
      "I Love 100\n"
     ]
    }
   ],
   "source": [
    "print('I Love %s'%'王五')\n",
    "\n",
    "# 占位符一般只能被同类型的字符替换，或者替换类型能被转换成占位符的类型\n",
    "print('I Love %s'%100)"
   ]
  },
  {
   "cell_type": "code",
   "execution_count": 9,
   "metadata": {},
   "outputs": [
    {
     "name": "stdout",
     "output_type": "stream",
     "text": [
      "今年 27 岁\n"
     ]
    }
   ],
   "source": [
    "s = '今年 %d 岁'\n",
    "print(s%27)  #print(s#'二十七')会报错，占位符只能被同类型字符替换"
   ]
  },
  {
   "cell_type": "code",
   "execution_count": 11,
   "metadata": {},
   "outputs": [
    {
     "name": "stdout",
     "output_type": "stream",
     "text": [
      "I am 47.200000KG and 1.650000 M\n",
      "I am 47.2KG and 1.65 M\n"
     ]
    }
   ],
   "source": [
    "# 如果需要格式化的信息不止一个，则用括号括起来\n",
    "s = 'I am %fKG and %f M'\n",
    "print(s%(47.2,1.65))\n",
    "# 实际需要进行格式化的信息的数量必须与百分号后面给出的数据数量匹配，否则报错\n",
    "\n",
    "# 格式化浮点数字并指定精度\n",
    "s = 'I am %.1fKG and %.2f M'\n",
    "print(s%(47.2,1.65))"
   ]
  }
 ],
 "metadata": {
  "kernelspec": {
   "display_name": "Python 3",
   "language": "python",
   "name": "python3"
  },
  "language_info": {
   "codemirror_mode": {
    "name": "ipython",
    "version": 3
   },
   "file_extension": ".py",
   "mimetype": "text/x-python",
   "name": "python",
   "nbconvert_exporter": "python",
   "pygments_lexer": "ipython3",
   "version": "3.7.3"
  }
 },
 "nbformat": 4,
 "nbformat_minor": 2
}
