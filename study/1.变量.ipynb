{
 "cells": [
  {
   "cell_type": "markdown",
   "metadata": {},
   "source": [
    "# 变量  \n",
    "## 1.变量的三种声明方式  "
   ]
  },
  {
   "cell_type": "code",
   "execution_count": 12,
   "metadata": {},
   "outputs": [],
   "source": [
    "# 格式1：\n",
    "s1 = 'Hello World!'\n",
    "\n",
    "# 格式2：\n",
    "s2 = s1 = '世界，你好！'\n",
    "\n",
    "# 格式3：\n",
    "s1, s2, s3 = 'I','Love','You'"
   ]
  },
  {
   "cell_type": "markdown",
   "metadata": {},
   "source": [
    "## 2.变量的类型  \n",
    "- 严格意义上讲，python只有一个类型  \n",
    "- 标准的六种数据类型  \n",
    "    - 数字 Number  \n",
    "    - 字符串类型 str  \n",
    "    - 列表 list  \n",
    "    - 元组 tuple  \n",
    "    - 字典 dict  \n",
    "    - 集合 set\n",
    "\n",
    "### 2.1数字类型Number  \n",
    "- python中的数字没有大小限制   \n",
    "- 整数  \n",
    "- 浮点数  \n",
    "- 科学计数法  \n",
    "- 复数  \n",
    "\n",
    "#### 整数\n",
    "- 没有小数部分  \n",
    "- 包含正数、负数和0\n",
    "- 二进制（以0b开头的01串，只有0和1）\n",
    "    - 例如：0b110，0b11110\n",
    "- 八进制（以0o开头的0到7之间的数字串）\n",
    "    - 例如：0o71，0b367\n",
    "- 十六进制（以0x开头的0到9,a到f构成的数字串）\n",
    "    - 例如：0xffff，0x53e2"
   ]
  },
  {
   "cell_type": "code",
   "execution_count": 5,
   "metadata": {
    "scrolled": true
   },
   "outputs": [
    {
     "name": "stdout",
     "output_type": "stream",
     "text": [
      "6\n",
      "30\n",
      "57\n",
      "65535\n"
     ]
    }
   ],
   "source": [
    "# 二进制定义\n",
    "a1 = 0b110\n",
    "print(a1)\n",
    "\n",
    "a2 = 0b11110\n",
    "print(a2)\n",
    "\n",
    "# 八进制定义\n",
    "a3 = 0o71\n",
    "print(a3)\n",
    "\n",
    "\n",
    "# 十六进制定义\n",
    "a5 = 0xffff\n",
    "print(a5)"
   ]
  },
  {
   "cell_type": "markdown",
   "metadata": {},
   "source": [
    "#### 浮点数  \n",
    "- 就是通俗意义上的小数  \n",
    "- 常见的格式  \n",
    "    - 3.1415926\n",
    "    - 3.（3.0的缩写）  \n",
    "    - 0.4  \n",
    "    - .4\n",
    "\n",
    "#### 科学计数法  \n",
    "- 定义与数学定义一致  \n",
    "- 写法就是e后面跟整数用来表示10的指数"
   ]
  },
  {
   "cell_type": "code",
   "execution_count": 8,
   "metadata": {},
   "outputs": [
    {
     "name": "stdout",
     "output_type": "stream",
     "text": [
      "184\n",
      "184.0\n"
     ]
    }
   ],
   "source": [
    "# 科学计数法\n",
    "height = 184\n",
    "print(height)\n",
    "\n",
    "height = 1.84e2\n",
    "print(height)"
   ]
  },
  {
   "cell_type": "markdown",
   "metadata": {},
   "source": [
    "#### 复数complex  \n",
    "- 与数学定义一致  \n",
    "- 复数的虚部用j/J表示  \n",
    "- 列如：\n",
    "    - 5+4j  \n",
    "    - 4j  \n",
    "    - (4j)"
   ]
  },
  {
   "cell_type": "code",
   "execution_count": 9,
   "metadata": {},
   "outputs": [
    {
     "name": "stdout",
     "output_type": "stream",
     "text": [
      "4j\n"
     ]
    }
   ],
   "source": [
    "a = 4j\n",
    "print(a)"
   ]
  },
  {
   "cell_type": "markdown",
   "metadata": {},
   "source": [
    "#### 布尔值  \n",
    "- 布尔值就是用来表示真假的值  \n",
    "- 只有两个值：True/False  \n",
    "- 在python中，布尔值可以当数字使用  \n",
    "    - 布尔值如果当数字使用，True=1,False=0  \n",
    "    - 如果数字用来当做布尔值使用，0=False,其余当做True"
   ]
  },
  {
   "cell_type": "code",
   "execution_count": 11,
   "metadata": {},
   "outputs": [
    {
     "name": "stdout",
     "output_type": "stream",
     "text": [
      "19\n",
      "18\n",
      "负数是True\n"
     ]
    }
   ],
   "source": [
    "# 布尔值当数字使用\n",
    "age = 18 + True\n",
    "print(age)\n",
    "\n",
    "age = 18 + False\n",
    "print(age)\n",
    "\n",
    "# 判断语句\n",
    "a = -1\n",
    "if a:\n",
    "    print('负数是True')\n",
    "else:\n",
    "    print('负数是False')"
   ]
  },
  {
   "cell_type": "markdown",
   "metadata": {},
   "source": [
    "### 2.2字符串  \n",
    "- 表达文字信息的内容，例如“Hello World”  \n",
    "- 形式上是引号引起来的一段内容  \n",
    "- 引号包括：  \n",
    "    - 单引号  \n",
    "    - 双引号  \n",
    "    - 三引号：可以用来表示多行信息  \n",
    "- 单双引号含义一致  "
   ]
  },
  {
   "cell_type": "code",
   "execution_count": 5,
   "metadata": {
    "scrolled": true
   },
   "outputs": [
    {
     "name": "stdout",
     "output_type": "stream",
     "text": [
      "I love The World\n",
      "I love The World\n",
      "I\n",
      "love\n",
      "The\n",
      "World\n"
     ]
    }
   ],
   "source": [
    "# 字符串的使用\n",
    "love = \"I love The World\"\n",
    "print(love)\n",
    "\n",
    "love2 = 'I love The World'\n",
    "print(love2)\n",
    "\n",
    "# 三引号可以表示多行 \n",
    "love3 = \"\"\"I\n",
    "love\n",
    "The\n",
    "World\"\"\"\n",
    "print(love3)"
   ]
  },
  {
   "cell_type": "markdown",
   "metadata": {},
   "source": [
    "#### None类型  \n",
    "- 表示没有，通常用来占位  \n",
    "- 比如返回，用来表示返回一个空  "
   ]
  },
  {
   "cell_type": "markdown",
   "metadata": {},
   "source": [
    "## 表达式  \n",
    "- 由一个或几个数字或者变量或者运算符合成的一行代码  \n",
    "- 通常返回一个结果  \n",
    "\n",
    "## 运算符  \n",
    "- 由一个以上的值经过一系列的运算得到新值的过程就叫运算  \n",
    "- 用来操作运算的符号叫做运算符  \n",
    "- 运算符分类  \n",
    "    - 算术运算符  \n",
    "    - 比较运算符  \n",
    "    - 赋值运算符  \n",
    "    - 逻辑运算符  \n",
    "    - 位运算符  \n",
    "    - 成员运算符  \n",
    "    - 身份运算符\n",
    "    "
   ]
  },
  {
   "cell_type": "code",
   "execution_count": 6,
   "metadata": {},
   "outputs": [
    {
     "name": "stdout",
     "output_type": "stream",
     "text": [
      "3\n"
     ]
    }
   ],
   "source": [
    "# 表达式的使用\n",
    "a = 1 + 2\n",
    "print(a)"
   ]
  },
  {
   "cell_type": "markdown",
   "metadata": {},
   "source": [
    "### 算术运算符  \n",
    "- 用来进行算术运算的符号  \n",
    "- python没有自增自减运算符"
   ]
  },
  {
   "cell_type": "code",
   "execution_count": 7,
   "metadata": {
    "pycharm": {
     "name": "#%%\n"
    }
   },
   "outputs": [
    {
     "name": "stdout",
     "output_type": "stream",
     "text": [
      "11\n",
      "7\n",
      "18\n",
      "4.5\n",
      "4\n",
      "1\n",
      "81\n"
     ]
    }
   ],
   "source": [
    "# 加减乘除\n",
    "a = 9 + 2\n",
    "print(a)\n",
    "\n",
    "b = 9 - 2\n",
    "print(b)\n",
    "\n",
    "c = 9 * 2\n",
    "print(c)\n",
    "\n",
    "d = 9 / 2\n",
    "print(d)\n",
    "\n",
    "# 取整数\n",
    "e = 9 // 2\n",
    "print(e)\n",
    "\n",
    "# 取余数\n",
    "f = 9 % 2\n",
    "print(f)\n",
    "\n",
    "# 幂 - 返回x的y次幂\n",
    "g = 9 ** 2\n",
    "print(g)"
   ]
  }
 ],
 "metadata": {
  "kernelspec": {
   "display_name": "Python 3",
   "language": "python",
   "name": "python3"
  },
  "language_info": {
   "codemirror_mode": {
    "name": "ipython",
    "version": 3
   },
   "file_extension": ".py",
   "mimetype": "text/x-python",
   "name": "python",
   "nbconvert_exporter": "python",
   "pygments_lexer": "ipython3",
   "version": "3.7.3"
  },
  "pycharm": {
   "stem_cell": {
    "cell_type": "raw",
    "source": [],
    "metadata": {
     "collapsed": false
    }
   }
  }
 },
 "nbformat": 4,
 "nbformat_minor": 2
}