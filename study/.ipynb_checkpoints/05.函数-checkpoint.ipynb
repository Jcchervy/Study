{
 "cells": [
  {
   "cell_type": "markdown",
   "metadata": {},
   "source": [
    "# 函数  \n",
    "- 函数是代码的一种组织形式  \n",
    "- 函数应该能完成一项特定的工作，而且一般一个函数只完成一项工作  \n",
    "- 有些语言分函数与过程两个概念，通俗解释是，有返回结果的叫函数，无返回结果的叫过程  \n",
    "- 函数的使用  \n",
    "    - 函数使用需要先定义  \n",
    "    - 使用函数，俗称调用   \n",
    "\n",
    "## 1. 函数的定义  \n",
    "- 只是定义的话不会执行  \n",
    "- 1.def关键字，后跟一个空格  \n",
    "- 2.函数名自己定义，起名需要遵循命名规则；（大驼峰命名只能给类用）  \n",
    "- 3.后面的括号和冒号不能省略，括号内可以有参数  \n",
    "- 4.函数内多有代码缩进"
   ]
  },
  {
   "cell_type": "code",
   "execution_count": 1,
   "metadata": {},
   "outputs": [
    {
     "name": "stdout",
     "output_type": "stream",
     "text": [
      "函数已经结束了\n"
     ]
    }
   ],
   "source": [
    "def func():\n",
    "    print('我是一个函数')\n",
    "    print('I Love You')\n",
    "print('函数已经结束了')"
   ]
  },
  {
   "cell_type": "code",
   "execution_count": 2,
   "metadata": {},
   "outputs": [
    {
     "name": "stdout",
     "output_type": "stream",
     "text": [
      "我是一个函数\n",
      "I Love You\n"
     ]
    }
   ],
   "source": [
    "# 函数的调用\n",
    "# 直接写出函数的名字，后面小括号不能省略，括号内的内容根据情况书写\n",
    "\n",
    "func()"
   ]
  },
  {
   "cell_type": "markdown",
   "metadata": {},
   "source": [
    "## 2. 函数的参数  \n",
    "- 参数：负责给函数传递一些必要的数据或者数据信息  \n",
    "    - 形参（形式参数）：在函数定义的时候用到的参数，没有具体值，只是一个占位符  \n",
    "    - 实参（实际参数）：在调用函数的时候输入的值   \n",
    "- 参数类型  \n",
    "    - 普通参数/位置参数  \n",
    "    - 默认参数  \n",
    "    - 关键字参数  \n",
    "    - 收集参数  "
   ]
  },
  {
   "cell_type": "code",
   "execution_count": 4,
   "metadata": {},
   "outputs": [
    {
     "name": "stdout",
     "output_type": "stream",
     "text": [
      "小明,你好吗？\n",
      "小明,你今天加班吗？\n"
     ]
    }
   ],
   "source": [
    "# 形参和实参\n",
    "# 参数person只是一个符号，\n",
    "# 调用的时候用另外一个\n",
    "\n",
    "def hello(person):\n",
    "    print('{},你好吗？'.format(person))\n",
    "    print('{},你今天加班吗？'.format(person))\n",
    "\n",
    "# 调用函数，需要把p作为实参传入\n",
    "p = \"小明\"\n",
    "hello(p)"
   ]
  },
  {
   "cell_type": "code",
   "execution_count": 13,
   "metadata": {},
   "outputs": [
    {
     "name": "stdout",
     "output_type": "stream",
     "text": [
      "1  \n",
      "2  4  \n",
      "3  6  9  \n",
      "4  8  12  16  \n",
      "5  10  15  20  25  \n",
      "6  12  18  24  30  36  \n",
      "7  14  21  28  35  42  49  \n",
      "8  16  24  32  40  48  56  64  \n",
      "9  18  27  36  45  54  63  72  81  \n"
     ]
    }
   ],
   "source": [
    "# 九九乘法表\n",
    "\n",
    "for a in range(1,10):             #控制外循环，从1到9\n",
    "    for b in range(1,a + 1):      #控制内循环，每次从第一个数字开始，打印到跟行数相同的数量\n",
    "        print(a * b, end = '  ')  #使用print函数时，默认end = '/n'，改成end = '  '可以让打印数据的时候不换行\n",
    "    print('')                     #实现每打印完一行，换一行"
   ]
  },
  {
   "cell_type": "code",
   "execution_count": 6,
   "metadata": {
    "scrolled": true
   },
   "outputs": [
    {
     "name": "stdout",
     "output_type": "stream",
     "text": [
      "1  \n",
      "2  4  \n",
      "3  6  9  \n",
      "4  8  12  16  \n",
      "5  10  15  20  25  \n",
      "6  12  18  24  30  36  \n",
      "7  14  21  28  35  42  49  \n",
      "8  16  24  32  40  48  56  64  \n",
      "9  18  27  36  45  54  63  72  81  \n"
     ]
    }
   ],
   "source": [
    "# 尝试用函数打印九九乘法表\n",
    "\n",
    "def chengfa():\n",
    "    for a in range(1,10): \n",
    "        for b in range(1,a + 1):\n",
    "            print(a * b, end = '  ') \n",
    "        print('')\n",
    "    return None\n",
    "chengfa()"
   ]
  },
  {
   "cell_type": "markdown",
   "metadata": {},
   "source": [
    "### 2.1 普通参数  \n",
    "- 定义的时候直接定义变量名  \n",
    "- 调用的时候直接把变量或者值放入指定位置  \n",
    "        def 函数名（参数1， 参数2，....):\n",
    "            函数体           \n",
    "        # 调用\n",
    "        函数名（value1, value2,.......)               \n",
    "- 调用的时候，具体值参考的是位置，按位置赋值"
   ]
  },
  {
   "cell_type": "code",
   "execution_count": 9,
   "metadata": {},
   "outputs": [
    {
     "name": "stdout",
     "output_type": "stream",
     "text": [
      "3\n"
     ]
    }
   ],
   "source": [
    "# 普通参数案例\n",
    "\n",
    "def normal_para(one, two, three):\n",
    "    print(one + two)\n",
    "    return None\n",
    "normal_para(1,2,3)"
   ]
  },
  {
   "cell_type": "markdown",
   "metadata": {},
   "source": [
    "### 2.2默认参数  \n",
    "- 形参带有默认值\n",
    "- 调用的时候，如果没有对相应形参赋值，则使用默认值  \n",
    "        def 函数名（p1=value1, p2=value2, ...):  \n",
    "            函数体           \n",
    "        # 调用1  \n",
    "        函数名（value1, value2, ...)  \n",
    "        # 调用2  \n",
    "        value1= 100  \n",
    "        value2=200  \n",
    "        函数名（value1, value2, ...)"
   ]
  },
  {
   "cell_type": "code",
   "execution_count": 10,
   "metadata": {},
   "outputs": [
    {
     "name": "stdout",
     "output_type": "stream",
     "text": [
      "201\n"
     ]
    }
   ],
   "source": [
    "# 默认参数案例\n",
    "\n",
    "def default_para(one, two = 200, three = 100):\n",
    "    print(one + two)\n",
    "    return None\n",
    "default_para(1)"
   ]
  },
  {
   "cell_type": "markdown",
   "metadata": {},
   "source": [
    "### 2.3 关键字参数\n",
    "- 不容易混淆， 一般实参和形参只是按照位置一一对应即可，容易出错  \n",
    "- 使用关键字参数，可以不考虑参数位置- 语法  \n",
    "        def 函数名（p1=value1, p2=value2, ...):  \n",
    "            函数体           \n",
    "        # 调用1  \n",
    "        函数名（p1=value1, p2=value2, ...)  "
   ]
  },
  {
   "cell_type": "code",
   "execution_count": 11,
   "metadata": {},
   "outputs": [
    {
     "name": "stdout",
     "output_type": "stream",
     "text": [
      "3\n"
     ]
    }
   ],
   "source": [
    "# 关键字参数\n",
    "\n",
    "def keyword_para(one, two, three):\n",
    "    print(one + two)\n",
    "    return None\n",
    "keyword_para(one = 1,three = 3, two = 2)"
   ]
  },
  {
   "cell_type": "markdown",
   "metadata": {},
   "source": [
    "### 2.4 收集参数  \n",
    "- 把没有位置，不能和定义时的参数位置相对应的参数，放入一个特定的数据结构中  \n",
    "- 语法：按照list使用方式访问args，得到传入的参数  \n",
    "        def 函数名(*args):\n",
    "            函数体  \n",
    "        调用：\n",
    "        函数名(p1, p2, p3, ...)\n",
    "- 参数名args不是必须这么写，但是我们推荐直接用args，约定俗成\n",
    "- 参数名args前需要由星号\n",
    "- 收集参数可以和其他参数共存"
   ]
  },
  {
   "cell_type": "code",
   "execution_count": 16,
   "metadata": {
    "scrolled": true
   },
   "outputs": [
    {
     "name": "stdout",
     "output_type": "stream",
     "text": [
      "Hello 大家好！\n",
      "李思敏\n",
      "27\n",
      "武汉\n",
      "single\n",
      "Hello 大家好！\n",
      "陈飞\n",
      "28\n"
     ]
    }
   ],
   "source": [
    "# 收集参数\n",
    "# args把他看做一个列表\n",
    "\n",
    "def stu(*args):\n",
    "    print('Hello 大家好！')\n",
    "    for item in args:\n",
    "        print(item)\n",
    "stu('李思敏', '27', '武汉', 'single')\n",
    "stu('陈飞', '28')"
   ]
  },
  {
   "cell_type": "code",
   "execution_count": 17,
   "metadata": {},
   "outputs": [
    {
     "name": "stdout",
     "output_type": "stream",
     "text": [
      "Hello 大家好！\n"
     ]
    }
   ],
   "source": [
    "# 收集参数可以不带任何参数，此时收集参数为空tuple\n",
    "stu()"
   ]
  },
  {
   "cell_type": "markdown",
   "metadata": {},
   "source": [
    "#### 收集参数之关键字收集参数  \n",
    "- 把关键词参数按字典格式存入收集参数\n",
    "- 语法：  \n",
    "        def 函数名(**kwargs):  \n",
    "            函数体  \n",
    "        # 调用  \n",
    "        函数名(p1=value1, p2=value2, ...)  \n",
    "- kwargs一般约定俗成  \n",
    "- 调用的时候，把多余的关键字参数放入kwargs  \n",
    "- 访问kwargs需要使用字典格式访问"
   ]
  },
  {
   "cell_type": "code",
   "execution_count": 24,
   "metadata": {},
   "outputs": [
    {
     "name": "stdout",
     "output_type": "stream",
     "text": [
      "Hello 大家好！\n",
      "name ： 李思敏\n",
      "age ： 27\n",
      "address ： 武汉\n",
      "state ： single\n",
      "Hello 大家好！\n",
      "name ： 陈飞\n",
      "age ： 28\n"
     ]
    }
   ],
   "source": [
    "# 收集参数之关键字收集参数\n",
    "# 调用的时候需要使用关键字参数调用\n",
    "\n",
    "def stu(**kwargs):\n",
    "    print('Hello 大家好！')\n",
    "    for k,v in kwargs.items():\n",
    "        print(k, '：', v)\n",
    "stu(name='李思敏', age='27', address='武汉', state='single')\n",
    "stu(name='陈飞', age='28')\n",
    "\n",
    "# 字典的访问后续学习"
   ]
  },
  {
   "cell_type": "markdown",
   "metadata": {},
   "source": [
    "#### 收集参数混合调用的顺序问题  \n",
    "- 收集参数、关键字参数和普通参数可以混合使用  \n",
    "- 使用规则就是普通参数和关键字参数优先  \n",
    "- 定义的时候一般是：普通参数、关键字参数、收集参数tuple、收集参数dict"
   ]
  },
  {
   "cell_type": "code",
   "execution_count": 27,
   "metadata": {},
   "outputs": [
    {
     "name": "stdout",
     "output_type": "stream",
     "text": [
      "Hello 大家好\n",
      "我叫李思敏，我今年27岁了\n",
      "我没有什么爱好\n",
      "**************************************************\n",
      "**************************************************\n",
      "Hello 大家好\n",
      "我叫李思敏，我今年27岁了\n",
      "我的爱好是游泳\n",
      "**************************************************\n",
      "**************************************************\n",
      "Hello 大家好\n",
      "我叫李思敏，我今年27岁了\n",
      "我的爱好是游泳\n",
      "**************************************************\n",
      "photoshop\n",
      "axure\n",
      "**************************************************\n",
      "hobby1 ： 羽毛球\n",
      "hobby2 ： 乒乓球\n"
     ]
    }
   ],
   "source": [
    "# 收集参数的混合调用\n",
    "\n",
    "def stu(name, age, hobby='没有', *args, **kwargs):\n",
    "    print('Hello 大家好')\n",
    "    print('我叫{0}，我今年{1}岁了'.format(name, age))\n",
    "    if hobby == '没有':\n",
    "        print('我没有什么爱好')\n",
    "    else:\n",
    "        print('我的爱好是{0}'.format(hobby))\n",
    "    print('*' * 50)\n",
    "    for i in args:\n",
    "        print(i)\n",
    "    print('*' * 50)\n",
    "    for k,v in kwargs.items():\n",
    "        print(k, '：', v)\n",
    "\n",
    "name = '李思敏'\n",
    "age = 27\n",
    "stu(name, age)\n",
    "stu(name, age, hobby='游泳')\n",
    "stu(name, age, '游泳', 'photoshop', 'axure', hobby1='羽毛球', hobby2='乒乓球')"
   ]
  },
  {
   "cell_type": "markdown",
   "metadata": {},
   "source": [
    "#### 收集参数的解包问题  \n",
    "- 把参数放入list或者字典中，直接把list/dict中的值放入收集参数中，需要进行解包  \n",
    "- 对list值解包使用“ * ” \n",
    "- 对dict值解包使用“ ** ”"
   ]
  },
  {
   "cell_type": "code",
   "execution_count": 30,
   "metadata": {
    "scrolled": true
   },
   "outputs": [
    {
     "name": "stdout",
     "output_type": "stream",
     "text": [
      "hahaha\n",
      "['李思明', 2, '男']\n",
      "hahaha\n",
      "李思明\n",
      "2\n",
      "男\n"
     ]
    }
   ],
   "source": [
    "# 收集参数list的解包问题\n",
    "\n",
    "def stu(*args):\n",
    "    print('hahaha')\n",
    "    for i in args:\n",
    "        print(i)\n",
    "\n",
    "l = ['李思明', 2, '男']\n",
    "stu(l)\n",
    "# 此时，args是直接将list中的所有值当做了一个字符串\n",
    "\n",
    "# 调用list/dict中的值，我们需要解包符号，即调用的时候加一个星号\n",
    "stu(*l)"
   ]
  },
  {
   "cell_type": "markdown",
   "metadata": {},
   "source": [
    "## 3. 返回值  \n",
    "- 函数与过程的区别：有返回值的是函数，没有返回值的是过程  \n",
    "- 使用return返回结果，如果没有值需要返回，则默认返回None  \n",
    "- 函数一旦执行return，则函数立即结束  \n",
    "- 我们推荐使用return None表示函数结束  "
   ]
  },
  {
   "cell_type": "code",
   "execution_count": 32,
   "metadata": {},
   "outputs": [
    {
     "name": "stdout",
     "output_type": "stream",
     "text": [
      "有返回值\n",
      "1\n",
      "没有返回值\n",
      "None\n"
     ]
    }
   ],
   "source": [
    "def fun1():\n",
    "    print('有返回值')\n",
    "    return 1\n",
    "def fun2():\n",
    "    print('没有返回值')\n",
    "\n",
    "f1 = fun1()\n",
    "print(f1)\n",
    "\n",
    "f2 = fun2()\n",
    "print(f2)"
   ]
  },
  {
   "cell_type": "markdown",
   "metadata": {},
   "source": [
    "## 4. 函数文档  \n",
    "- 函数的文档作用是对当前函数提供使用的相关信息  \n",
    "- 在函数内部开始的第一行使用三字符串注释  \n",
    "- 文档查看  \n",
    "    - 使用help函数，如help(func)  \n",
    "    - 使用__doc__，查看文档"
   ]
  },
  {
   "cell_type": "code",
   "execution_count": 33,
   "metadata": {},
   "outputs": [
    {
     "name": "stdout",
     "output_type": "stream",
     "text": [
      "Help on function func in module __main__:\n",
      "\n",
      "func()\n",
      "    函数使用说明文档\n",
      "    这是第一行\n",
      "    这是第二行\n",
      "\n"
     ]
    },
    {
     "data": {
      "text/plain": [
       "'\\n    函数使用说明文档\\n    这是第一行\\n    这是第二行\\n    '"
      ]
     },
     "execution_count": 33,
     "metadata": {},
     "output_type": "execute_result"
    }
   ],
   "source": [
    "# 文档案例\n",
    "def func():\n",
    "    '''\n",
    "    函数使用说明文档\n",
    "    这是第一行\n",
    "    这是第二行\n",
    "    '''\n",
    "    print('Hello World')\n",
    "\n",
    "help(func)\n",
    "func.__doc__"
   ]
  }
 ],
 "metadata": {
  "kernelspec": {
   "display_name": "Python 3",
   "language": "python",
   "name": "python3"
  },
  "language_info": {
   "codemirror_mode": {
    "name": "ipython",
    "version": 3
   },
   "file_extension": ".py",
   "mimetype": "text/x-python",
   "name": "python",
   "nbconvert_exporter": "python",
   "pygments_lexer": "ipython3",
   "version": "3.7.3"
  }
 },
 "nbformat": 4,
 "nbformat_minor": 2
}
