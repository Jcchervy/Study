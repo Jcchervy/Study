{
 "cells": [
  {
   "cell_type": "markdown",
   "metadata": {},
   "source": [
    "# 函数  \n",
    "- 函数是代码的一种组织形式  \n",
    "- 函数应该能完成一项特定的工作，而且一般一个函数只完成一项工作  \n",
    "- 有些语言分函数与过程两个概念，通俗解释是，有返回结果的叫函数，无返回结果的叫过程  \n",
    "- 函数的使用  \n",
    "    - 函数使用需要先定义  \n",
    "    - 使用函数，俗称调用   \n",
    "\n",
    "## 定义一个函数  \n",
    "- 只是定义的话不会执行  \n",
    "- 1.def关键字，后跟一个空格  \n",
    "- 2.函数名自己定义，起名需要遵循命名规则；（大驼峰命名只能给类用）  \n",
    "- 3.后面的括号和冒号不能省略，括号内可以有参数  \n",
    "- 4.函数内多有代码缩进"
   ]
  },
  {
   "cell_type": "code",
   "execution_count": 6,
   "metadata": {},
   "outputs": [
    {
     "name": "stdout",
     "output_type": "stream",
     "text": [
      "函数已经结束了\n"
     ]
    }
   ],
   "source": [
    "def func():\n",
    "    print('我是一个函数')\n",
    "    print('I Love You')\n",
    "print('函数已经结束了')"
   ]
  },
  {
   "cell_type": "code",
   "execution_count": 4,
   "metadata": {},
   "outputs": [
    {
     "name": "stdout",
     "output_type": "stream",
     "text": [
      "我是一个函数\n",
      "I Love You\n"
     ]
    }
   ],
   "source": [
    "# 函数的调用\n",
    "# 直接写出函数的名字，后面小括号不能省略，括号内的内容根据情况书写\n",
    "\n",
    "func()"
   ]
  },
  {
   "cell_type": "markdown",
   "metadata": {},
   "source": [
    "## 函数的参数和返回值  \n",
    "- 参数：负责给函数传递一些必要的数据或者数据信息  \n",
    "    - 形参（形式参数）：在函数定义的时候用到的参数，没有具体值，只是一个占位符  \n",
    "    - 实参（实际参数）：在调用函数的时候输入的值  \n",
    "- 返回值：调用函数的时候的一个执行结果  \n",
    "    - 使用return返回结果  \n",
    "    - 如果没有值需要返回，我们推荐使用return None表示函数结束  \n",
    "    - 函数一旦执行return，则函数立即结束  -\n",
    "    - 函数没有返回值，则默认返回None"
   ]
  },
  {
   "cell_type": "code",
   "execution_count": 13,
   "metadata": {},
   "outputs": [
    {
     "name": "stdout",
     "output_type": "stream",
     "text": [
      "小明，你好吗？\n",
      "小明,你今天加班吗？\n"
     ]
    }
   ],
   "source": [
    "# 形参和实参\n",
    "# 参数person只是一个符号\n",
    "# 调用的时候用另外一个\n",
    "\n",
    "def hello(person):\n",
    "    print('{0}，你好吗？'.format(person))\n",
    "    print('{},你今天加班吗？'.format(person))\n",
    "    return None\n",
    "\n",
    "p = '小明'\n",
    "# 调用函数，需要把p作为实参传入\n",
    "hello(p)\n"
   ]
  },
  {
   "cell_type": "code",
   "execution_count": 14,
   "metadata": {},
   "outputs": [
    {
     "name": "stdout",
     "output_type": "stream",
     "text": [
      "小五，你好吗？\n",
      "小五,你今天加班吗？\n"
     ]
    }
   ],
   "source": [
    "p = '小五'\n",
    "hello(p)"
   ]
  },
  {
   "cell_type": "code",
   "execution_count": 16,
   "metadata": {},
   "outputs": [
    {
     "name": "stdout",
     "output_type": "stream",
     "text": [
      "Help on built-in function print in module builtins:\n",
      "\n",
      "print(...)\n",
      "    print(value, ..., sep=' ', end='\\n', file=sys.stdout, flush=False)\n",
      "    \n",
      "    Prints the values to a stream, or to sys.stdout by default.\n",
      "    Optional keyword arguments:\n",
      "    file:  a file-like object (stream); defaults to the current sys.stdout.\n",
      "    sep:   string inserted between values, default a space.\n",
      "    end:   string appended after the last value, default a newline.\n",
      "    flush: whether to forcibly flush the stream.\n",
      "\n"
     ]
    }
   ],
   "source": [
    "# help函数:帮助文档的使用\n",
    "\n",
    "help(print)"
   ]
  },
  {
   "cell_type": "code",
   "execution_count": 28,
   "metadata": {},
   "outputs": [
    {
     "name": "stdout",
     "output_type": "stream",
     "text": [
      "1  \n",
      "2  4  \n",
      "3  6  9  \n",
      "4  8  12  16  \n",
      "5  10  15  20  25  \n",
      "6  12  18  24  30  36  \n",
      "7  14  21  28  35  42  49  \n",
      "8  16  24  32  40  48  56  64  \n",
      "9  18  27  36  45  54  63  72  81  \n"
     ]
    }
   ],
   "source": [
    "# 九九乘法表\n",
    "\n",
    "for a in range(1,10):             #控制外循环，从1到9\n",
    "    for b in range(1,a + 1):      #控制内循环，每次从第一个数字开始，打印到跟行数相同的数量\n",
    "        print(a * b, end = '  ')  #打印数据\n",
    "    print('')                     #实现每打印完一行，换一行"
   ]
  },
  {
   "cell_type": "code",
   "execution_count": 32,
   "metadata": {},
   "outputs": [
    {
     "name": "stdout",
     "output_type": "stream",
     "text": [
      "1  \n",
      "2  4  \n",
      "3  6  9  \n",
      "4  8  12  16  \n",
      "5  10  15  20  25  \n",
      "6  12  18  24  30  36  \n",
      "7  14  21  28  35  42  49  \n",
      "8  16  24  32  40  48  56  64  \n",
      "9  18  27  36  45  54  63  72  81  \n"
     ]
    }
   ],
   "source": [
    "# 尝试用函数打印九九乘法表\n",
    "\n",
    "def chengfa():\n",
    "    for a in range(1,10): \n",
    "        for b in range(1,a + 1):\n",
    "            print(a * b, end = '  ') \n",
    "        print('')\n",
    "    return None\n",
    "chengfa()"
   ]
  },
  {
   "cell_type": "code",
   "execution_count": 49,
   "metadata": {},
   "outputs": [
    {
     "name": "stdout",
     "output_type": "stream",
     "text": [
      "1 \n",
      "2 4 \n",
      "3 6 9 \n",
      "4 8 12 16 \n",
      "5 10 15 20 25 \n",
      "6 12 18 24 30 36 \n",
      "7 14 21 28 35 42 49 \n",
      "8 16 24 32 40 48 56 64 \n",
      "9 18 27 36 45 54 63 72 81 \n"
     ]
    }
   ],
   "source": [
    "#改造函数\n",
    "\n",
    "def printLine(num):\n",
    "    for a in range(1,num + 1):\n",
    "        print(num * a, end = ' ')\n",
    "    print()\n",
    "def chengfa():\n",
    "    for b in range(1,10):\n",
    "        printLine(b)\n",
    "    return None\n",
    "chengfa()"
   ]
  },
  {
   "cell_type": "markdown",
   "metadata": {},
   "source": [
    "## 参数详解  \n",
    "- 普通参数  \n",
    "    - 普通参数/位置参数  \n",
    "    - 默认参数  \n",
    "    - 关键字参数  \n",
    "    - 收集参数  "
   ]
  },
  {
   "cell_type": "code",
   "execution_count": 50,
   "metadata": {},
   "outputs": [
    {
     "name": "stdout",
     "output_type": "stream",
     "text": [
      "3\n"
     ]
    }
   ],
   "source": [
    "# 普通参数案例\n",
    "\n",
    "def normal_para(one, two, three):\n",
    "    print(one + two)\n",
    "    return None\n",
    "normal_para(1,2,3)"
   ]
  },
  {
   "cell_type": "code",
   "execution_count": 54,
   "metadata": {},
   "outputs": [
    {
     "name": "stdout",
     "output_type": "stream",
     "text": [
      "201\n"
     ]
    }
   ],
   "source": [
    "# 默认参数案例\n",
    "\n",
    "def default_para(one, two = 200, three = 100):\n",
    "    print(one + two)\n",
    "    return None\n",
    "default_para(1)"
   ]
  },
  {
   "cell_type": "code",
   "execution_count": 55,
   "metadata": {
    "scrolled": true
   },
   "outputs": [
    {
     "name": "stdout",
     "output_type": "stream",
     "text": [
      "3\n"
     ]
    }
   ],
   "source": [
    "# 关键字参数\n",
    "\n",
    "def keyword_para(one, two, three):\n",
    "    print(one + two)\n",
    "    return None\n",
    "keyword_para(one = 1,three = 3, two = 2)"
   ]
  }
 ],
 "metadata": {
  "kernelspec": {
   "display_name": "Python 3",
   "language": "python",
   "name": "python3"
  },
  "language_info": {
   "codemirror_mode": {
    "name": "ipython",
    "version": 3
   },
   "file_extension": ".py",
   "mimetype": "text/x-python",
   "name": "python",
   "nbconvert_exporter": "python",
   "pygments_lexer": "ipython3",
   "version": "3.7.3"
  }
 },
 "nbformat": 4,
 "nbformat_minor": 2
}
