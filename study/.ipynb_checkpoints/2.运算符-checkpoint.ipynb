{
 "cells": [
  {
   "cell_type": "markdown",
   "metadata": {},
   "source": [
    "\n",
    "# 运算符  \n",
    "- 由一个以上的值经过一系列的运算得到新值的过程就叫运算  \n",
    "- 用来操作运算的符号叫做运算符  \n",
    "- 运算符分类  \n",
    "    - 算术运算符  \n",
    "    - 比较运算符  \n",
    "    - 赋值运算符  \n",
    "    - 逻辑运算符  \n",
    "    - 位运算符  \n",
    "    - 成员运算符  \n",
    "    - 身份运算符  \n",
    "\n",
    "## 表达式  \n",
    "- 由一个或几个数字或者变量或者运算符合成的一行代码  \n",
    "- 通常返回一个结果  \n",
    "    "
   ]
  },
  {
   "cell_type": "code",
   "execution_count": 6,
   "metadata": {},
   "outputs": [
    {
     "name": "stdout",
     "output_type": "stream",
     "text": [
      "3\n"
     ]
    }
   ],
   "source": [
    "# 表达式的使用\n",
    "a = 1 + 2\n",
    "print(a)"
   ]
  },
  {
   "cell_type": "markdown",
   "metadata": {},
   "source": [
    "## 算术运算符  \n",
    "- 用来进行算术运算的符号  \n",
    "- python没有自增自减运算符"
   ]
  },
  {
   "cell_type": "code",
   "execution_count": 25,
   "metadata": {
    "pycharm": {
     "name": "#%%\n"
    }
   },
   "outputs": [
    {
     "name": "stdout",
     "output_type": "stream",
     "text": [
      "11\n",
      "7\n",
      "18\n",
      "今天真好 今天真好 今天真好 \n",
      "4.5\n",
      "4\n",
      "1\n",
      "81\n"
     ]
    }
   ],
   "source": [
    "# 加减乘除\n",
    "a = 9 + 2\n",
    "print(a)\n",
    "\n",
    "b = 9 - 2\n",
    "print(b)\n",
    "\n",
    "c = 9 * 2\n",
    "print(c)\n",
    "\n",
    "# 字符串*数字代表重复字符串的次数\n",
    "print('今天真好 '*3)\n",
    "\n",
    "d = 9 / 2\n",
    "print(d)\n",
    "\n",
    "# 取整数：//\n",
    "e = 9 // 2\n",
    "print(e)\n",
    "\n",
    "# 取余数：%\n",
    "f = 9 % 2\n",
    "print(f)\n",
    "\n",
    "# 幂：** - 返回x的y次幂\n",
    "g = 9 ** 2\n",
    "print(g)"
   ]
  },
  {
   "cell_type": "markdown",
   "metadata": {},
   "source": [
    "## 比较运算符  \n",
    "- 对两个内容进行比较的运算符  \n",
    "- 结果一定是布尔值，即True/False"
   ]
  },
  {
   "cell_type": "code",
   "execution_count": 4,
   "metadata": {},
   "outputs": [
    {
     "name": "stdout",
     "output_type": "stream",
     "text": [
      "False\n",
      "True\n"
     ]
    }
   ],
   "source": [
    "# 等于 ==\n",
    "a = 3 == 4\n",
    "print(a)\n",
    "\n",
    "# 不等于 !=\n",
    "a = 3 != 4\n",
    "print(a)\n",
    "\n",
    "# 其他的符号：\n",
    "# >,>=,<,<="
   ]
  },
  {
   "cell_type": "markdown",
   "metadata": {},
   "source": [
    "## 赋值运算符  \n",
    "- 把一个值放到变量里面去  "
   ]
  },
  {
   "cell_type": "code",
   "execution_count": 6,
   "metadata": {},
   "outputs": [
    {
     "name": "stdout",
     "output_type": "stream",
     "text": [
      "3\n"
     ]
    }
   ],
   "source": [
    "# 赋值符号 = \n",
    "a = 9 \n",
    "\n",
    "# 复杂赋值  \n",
    "a = b = 9\n",
    "a,b = 1,2\n",
    "\n",
    "# 赋值的缩写：\n",
    "# +=,-=,*=,/=,//=,%=,**=\n",
    "cc = 0\n",
    "cc = cc + 3\n",
    "print(cc)"
   ]
  },
  {
   "cell_type": "markdown",
   "metadata": {},
   "source": [
    "## 逻辑运算符  \n",
    "- 对布尔类型的变量或者值进行运算的符号  \n",
    "- and:逻辑与  \n",
    "- or：逻辑或  \n",
    "- not：逻辑非  \n",
    "- 布尔值和数字的转化  \n",
    "    - 数字转化成布尔值的时候，0 = False，其余是True\n",
    "    - 布尔值转化成数字的时候，True = 1, False = 0\n",
    "- python里面的逻辑运算符没有异或  \n",
    "- 逻辑运算符的短路问题  \n",
    "    - 逻辑运算时，按照运算顺序计算，一旦能够确定整个式子未来的值，则不再进行计算，直接返回结果"
   ]
  },
  {
   "cell_type": "code",
   "execution_count": 13,
   "metadata": {},
   "outputs": [
    {
     "name": "stdout",
     "output_type": "stream",
     "text": [
      "True\n",
      "False\n",
      "False\n"
     ]
    }
   ],
   "source": [
    "# 逻辑运算符：\n",
    "a = True\n",
    "b = True\n",
    "c = False\n",
    "\n",
    "aa = a and b\n",
    "print(aa)\n",
    "\n",
    "bb = a and c\n",
    "print(bb)\n",
    "\n",
    "# 布尔值和数字的转化\n",
    "cc = 100 and bb\n",
    "# 100转化成了 True\n",
    "print(cc)"
   ]
  },
  {
   "cell_type": "markdown",
   "metadata": {},
   "source": [
    "## 成员运算符  \n",
    "- 用来检测一个值或者变量是否在一个集合里面  \n",
    "- in：成员运算符  \n",
    "- not in：不在里面的意思  "
   ]
  },
  {
   "cell_type": "code",
   "execution_count": 17,
   "metadata": {},
   "outputs": [
    {
     "name": "stdout",
     "output_type": "stream",
     "text": [
      "False\n",
      "True\n"
     ]
    }
   ],
   "source": [
    "# in的使用\n",
    "b = [1,2,3,4,5]\n",
    "a = 6\n",
    "aa = a in b\n",
    "print(aa)\n",
    "\n",
    "bb = a not in b\n",
    "print(bb)"
   ]
  },
  {
   "cell_type": "markdown",
   "metadata": {},
   "source": [
    "##  身份运算符  \n",
    "- 用来确定两个变量是否是同一个变量  \n",
    "- is：变量运算符  \n",
    "- is not：不是\n",
    "- python中，对整数N\\in[-5,256]，解释器对他们做了单独的处理，放进了固定的内存中，不因每次运行变化。"
   ]
  },
  {
   "cell_type": "code",
   "execution_count": 23,
   "metadata": {
    "scrolled": true
   },
   "outputs": [
    {
     "name": "stdout",
     "output_type": "stream",
     "text": [
      "False\n",
      "True\n"
     ]
    }
   ],
   "source": [
    "# 身份运算符\n",
    "# a,b仅仅是值一样，并不是代表a,b是一个变量\n",
    "a = 100989888\n",
    "b = 100989888\n",
    "\n",
    "aa = a is b\n",
    "print(aa)\n",
    "\n",
    "# python中，对整数N\\in[-5,256]，解释器对他们做了单独的处理，放进了固定的内存中，不因每次运行变化\n",
    "a = 5\n",
    "b = 5\n",
    "\n",
    "aa = a is b\n",
    "print(aa)"
   ]
  },
  {
   "cell_type": "markdown",
   "metadata": {},
   "source": [
    "## 运算符优先级问题  \n",
    "- 小括号具有最高优先级  "
   ]
  }
 ],
 "metadata": {
  "kernelspec": {
   "display_name": "Python 3",
   "language": "python",
   "name": "python3"
  },
  "language_info": {
   "codemirror_mode": {
    "name": "ipython",
    "version": 3
   },
   "file_extension": ".py",
   "mimetype": "text/x-python",
   "name": "python",
   "nbconvert_exporter": "python",
   "pygments_lexer": "ipython3",
   "version": "3.7.3"
  }
 },
 "nbformat": 4,
 "nbformat_minor": 2
}
