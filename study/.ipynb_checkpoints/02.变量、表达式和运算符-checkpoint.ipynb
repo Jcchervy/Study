{
 "cells": [
  {
   "cell_type": "markdown",
   "metadata": {},
   "source": [
    "# 变量  \n",
    "- 变量的声明方式  \n",
    "- 变量的类型  \n",
    "\n",
    "## 1.变量的三种声明方式  "
   ]
  },
  {
   "cell_type": "code",
   "execution_count": 12,
   "metadata": {},
   "outputs": [],
   "source": [
    "# 格式1：\n",
    "s1 = 'Hello World!'\n",
    "\n",
    "# 格式2：\n",
    "s2 = s1 = '世界，你好！'\n",
    "\n",
    "# 格式3：\n",
    "s1, s2, s3 = 'I','Love','You'"
   ]
  },
  {
   "cell_type": "markdown",
   "metadata": {},
   "source": [
    "## 2.变量的类型  \n",
    "- 严格意义上讲，python只有一个类型  \n",
    "- 标准的六种数据类型  \n",
    "    - 数字 Number  \n",
    "    - 字符串 str  \n",
    "    - 列表 list  \n",
    "    - 元组 tuple  \n",
    "    - 字典 dict  \n",
    "    - 集合 set\n",
    "\n",
    "## 3.数字类型Number  \n",
    "- python中的数字没有大小限制   \n",
    "- 整数  \n",
    "- 浮点数  \n",
    "- 科学计数法  \n",
    "- 复数  \n",
    "\n",
    "### 3.1整数\n",
    "- 没有小数部分  \n",
    "- 包含正数、负数和0\n",
    "- 二进制（以0b开头的01串，只有0和1）\n",
    "    - 例如：0b110，0b11110\n",
    "- 八进制（以0o开头的0到7之间的数字串）\n",
    "    - 例如：0o71，0b367\n",
    "- 十六进制（以0x开头的0到9,a到f构成的数字串）\n",
    "    - 例如：0xffff，0x53e2"
   ]
  },
  {
   "cell_type": "code",
   "execution_count": 5,
   "metadata": {
    "scrolled": true
   },
   "outputs": [
    {
     "name": "stdout",
     "output_type": "stream",
     "text": [
      "6\n",
      "30\n",
      "57\n",
      "65535\n"
     ]
    }
   ],
   "source": [
    "# 二进制定义\n",
    "a1 = 0b110\n",
    "print(a1)\n",
    "\n",
    "a2 = 0b11110\n",
    "print(a2)\n",
    "\n",
    "# 八进制定义\n",
    "a3 = 0o71\n",
    "print(a3)\n",
    "\n",
    "\n",
    "# 十六进制定义\n",
    "a5 = 0xffff\n",
    "print(a5)"
   ]
  },
  {
   "cell_type": "markdown",
   "metadata": {},
   "source": [
    "### 3.2浮点数  \n",
    "- 就是通俗意义上的小数  \n",
    "- 常见的格式  \n",
    "    - 3.1415926\n",
    "    - 3.（3.0的缩写）  \n",
    "    - 0.4  \n",
    "    - .4\n",
    "\n",
    "### 3.3科学计数法  \n",
    "- 定义与数学定义一致  \n",
    "- 写法就是e后面跟整数用来表示10的指数"
   ]
  },
  {
   "cell_type": "code",
   "execution_count": 8,
   "metadata": {},
   "outputs": [
    {
     "name": "stdout",
     "output_type": "stream",
     "text": [
      "184\n",
      "184.0\n"
     ]
    }
   ],
   "source": [
    "# 科学计数法\n",
    "height = 184\n",
    "print(height)\n",
    "\n",
    "height = 1.84e2\n",
    "print(height)"
   ]
  },
  {
   "cell_type": "markdown",
   "metadata": {},
   "source": [
    "### 3.4复数complex  \n",
    "- 与数学定义一致  \n",
    "- 复数的虚部用j/J表示  \n",
    "- 列如：\n",
    "    - 5+4j  \n",
    "    - 4j  \n",
    "    - (4j)"
   ]
  },
  {
   "cell_type": "code",
   "execution_count": 9,
   "metadata": {},
   "outputs": [
    {
     "name": "stdout",
     "output_type": "stream",
     "text": [
      "4j\n"
     ]
    }
   ],
   "source": [
    "a = 4j\n",
    "print(a)"
   ]
  },
  {
   "cell_type": "markdown",
   "metadata": {},
   "source": [
    "### 3.5布尔值  \n",
    "- 布尔值就是用来表示真假的值  \n",
    "- 只有两个值：True/False  \n",
    "- 在python中，布尔值可以当数字使用  \n",
    "    - 布尔值如果当数字使用，True=1,False=0  \n",
    "    - 如果数字用来当做布尔值使用，0=False,其余当做True"
   ]
  },
  {
   "cell_type": "code",
   "execution_count": 11,
   "metadata": {},
   "outputs": [
    {
     "name": "stdout",
     "output_type": "stream",
     "text": [
      "19\n",
      "18\n",
      "负数是True\n"
     ]
    }
   ],
   "source": [
    "# 布尔值当数字使用\n",
    "age = 18 + True\n",
    "print(age)\n",
    "\n",
    "age = 18 + False\n",
    "print(age)\n",
    "\n",
    "# 判断语句\n",
    "a = -1\n",
    "if a:\n",
    "    print('负数是True')\n",
    "else:\n",
    "    print('负数是False')"
   ]
  },
  {
   "cell_type": "markdown",
   "metadata": {},
   "source": [
    "## 4.字符串str  \n",
    "- 字符串  \n",
    "- 转义字符  \n",
    "- 格式化  \n",
    "- 内建函数  \n",
    "\n",
    "### 4.1字符串  \n",
    "- 表达文字信息的内容，例如“Hello World”  \n",
    "- 形式上是引号引起来的一段内容  \n",
    "- 引号包括：  \n",
    "    - 单引号  \n",
    "    - 双引号  \n",
    "    - 三引号：可以用来表示多行信息  \n",
    "- 单双引号含义一致  \n",
    "- 字符串的拼接：\n",
    "    - 使用“+”拼接：当有数字的时候一定要转化为字符串格式才能够相加  \n",
    "    - 使用%进行拼接  "
   ]
  },
  {
   "cell_type": "code",
   "execution_count": 8,
   "metadata": {},
   "outputs": [
    {
     "name": "stdout",
     "output_type": "stream",
     "text": [
      "I love The World\n",
      "I love The World\n",
      "I\n",
      "love\n",
      "The\n",
      "World\n"
     ]
    }
   ],
   "source": [
    "# 字符串的使用\n",
    "love = \"I love The World\"\n",
    "print(love)\n",
    "\n",
    "love2 = 'I love The World'\n",
    "print(love2)\n",
    "\n",
    "# 三引号可以表示多行 \n",
    "love3 = \"\"\"I\n",
    "love\n",
    "The\n",
    "World\"\"\"\n",
    "print(love3)"
   ]
  },
  {
   "cell_type": "markdown",
   "metadata": {},
   "source": [
    "### 4.2转义字符  \n",
    "- 用一个特殊的方法表示出一系列不方便写出的内容，比如回车键，换行符，退格键  \n",
    "- 借助反斜杠字符，一旦字符中出现反斜杠，则反斜杠后面一个或者几个字符表示已经不是原来的意义了，进行了转义  \n",
    "- 在字符串中，一旦出现反斜杠就要加倍小心，可能有转义字符出现  \n",
    "- 不同操作系统换行操作有不同的表示  \n",
    "    - Windows：\\n  \n",
    "    - Linux：\\r\\n  \n",
    "- 常用的转义字符：  \n",
    "        \\  (在行尾时)：续行符\n",
    "        \\\\\t反斜杠符号  \n",
    "        \\'\t单引号  \n",
    "        \\\"\t双引号  \n",
    "        \\a\t响铃  \n",
    "        \\b\t退格(Backspace)  \n",
    "        \\e\t转义  \n",
    "        \\000\t空  \n",
    "        \\n\t换行  \n",
    "        \\v\t纵向制表符  \n",
    "        \\t\t横向制表符  \n",
    "        \\r\t回车  \n",
    "        \\f\t换页  \n",
    "        \\oyy\t八进制数，yy代表的字符，例如：\\o12代表换行  \n",
    "        \\xyy\t十六进制数，yy代表的字符，例如：\\x0a代表换行  \n",
    "        \\other\t其它的字符以普通格式输出 "
   ]
  },
  {
   "cell_type": "code",
   "execution_count": null,
   "metadata": {},
   "outputs": [],
   "source": [
    "# 转义字符的案例\n",
    "s = 'Let\\'s Go'\n",
    "print(s)\n",
    "\n",
    "# 使用单双引号嵌套\n",
    "s = \"Let's Go\"\n",
    "print(s)\n",
    "\n",
    "# 表示斜杠\n",
    "s = \"c:\\\\User\\\\Jcchervy\"\n",
    "print(s)\n",
    "\n",
    "# 回车换行\n",
    "s = \"I\\nLove\\nYou\"\n",
    "print(s)"
   ]
  },
  {
   "cell_type": "code",
   "execution_count": 12,
   "metadata": {},
   "outputs": [
    {
     "name": "stdout",
     "output_type": "stream",
     "text": [
      "hahha\n"
     ]
    }
   ],
   "source": [
    "# 单个斜杠的用法\n",
    "# 在python里，单个反斜杠表示此行的结束，出于美观，需要下一行继续\n",
    "# 理论上应该写成def myDemo(int x, int y, int z):\n",
    "\n",
    "def myDemo(x, \\\n",
    "           y, \\\n",
    "           z,):\n",
    "    print('hahha')\n",
    "myDemo(1,2,3)"
   ]
  },
  {
   "cell_type": "markdown",
   "metadata": {},
   "source": [
    "### 4.3格式化  \n",
    "- 把字符串按一定的格式打印或者填充  \n",
    "- 格式化的分类：  \n",
    "    - 传统格式化  \n",
    "    - format  \n",
    "\n",
    "### 字符串的传统格式化方法  \n",
    "- 使用%进行格式化  \n",
    "- %（百分号）也叫占位符  \n",
    "        %c\t格式化字符及其ASCII码  \n",
    "        %s\t格式化字符串  \n",
    "        %d\t格式化整数  \n",
    "        %u\t格式化无符号整型  \n",
    "        %o\t格式化无符号八进制数  \n",
    "        %x\t格式化无符号十六进制数  \n",
    "        %X\t格式化无符号十六进制数（大写）  \n",
    "        %f\t格式化浮点数字，可指定小数点后的精度  \n",
    "        %e\t用科学计数法格式化浮点数  \n",
    "        %E\t作用同%e，用科学计数法格式化浮点数  \n",
    "        %g\t%f和%e的简写  \n",
    "        %G\t%f和%E的简写  \n",
    "        %p\t用十六进制数格式化变量的地址  \n",
    "        格式字符前边出现整数表示占位符所占位置的宽度  \n",
    "        格式字符前边出现‘-’表示左对齐  \n",
    "        格式字符前边出现‘+’表示有对齐  \n",
    "        0：位数不足用‘0’补充  \n",
    "        width表示宽度  \n",
    "        pricision精度"
   ]
  },
  {
   "cell_type": "code",
   "execution_count": 13,
   "metadata": {},
   "outputs": [
    {
     "name": "stdout",
     "output_type": "stream",
     "text": [
      "I Love %s\n",
      "I Love 张三\n",
      "I Love 李四\n"
     ]
    }
   ],
   "source": [
    "# %s 表示简单的字符串\n",
    "# 占位符可以单独使用\n",
    "i = 'I Love %s'\n",
    "print(i)\n",
    "print(i%'张三')\n",
    "print(i%'李四')"
   ]
  },
  {
   "cell_type": "code",
   "execution_count": 14,
   "metadata": {
    "scrolled": true
   },
   "outputs": [
    {
     "name": "stdout",
     "output_type": "stream",
     "text": [
      "I Love 王五\n",
      "I Love 100\n"
     ]
    }
   ],
   "source": [
    "print('I Love %s'%'王五')\n",
    "\n",
    "# 占位符一般只能被同类型的字符替换，或者替换类型能被转换成占位符的类型\n",
    "print('I Love %s'%100)"
   ]
  },
  {
   "cell_type": "code",
   "execution_count": 15,
   "metadata": {},
   "outputs": [
    {
     "name": "stdout",
     "output_type": "stream",
     "text": [
      "今年 27 岁\n"
     ]
    }
   ],
   "source": [
    "s = '今年 %d 岁'\n",
    "print(s%27)  #print(s%'二十七')会报错，占位符只能被同类型字符替换"
   ]
  },
  {
   "cell_type": "code",
   "execution_count": 16,
   "metadata": {},
   "outputs": [
    {
     "name": "stdout",
     "output_type": "stream",
     "text": [
      "I am 47.200000KG and 1.650000 M\n",
      "I am 47.2KG and 1.65 M\n"
     ]
    }
   ],
   "source": [
    "# 如果需要格式化的信息不止一个，则用括号括起来\n",
    "s = 'I am %fKG and %f M'\n",
    "print(s%(47.2,1.65))\n",
    "# 实际需要进行格式化的信息的数量必须与百分号后面给出的数据数量匹配，否则报错\n",
    "\n",
    "# 格式化浮点数字并指定精度\n",
    "s = 'I am %.1fKG and %.2f M'\n",
    "print(s%(47.2,1.65))"
   ]
  },
  {
   "cell_type": "markdown",
   "metadata": {},
   "source": [
    "### format格式化  \n",
    "- 使用函数形式进行格式化，代替以前的百分号  "
   ]
  },
  {
   "cell_type": "code",
   "execution_count": 17,
   "metadata": {},
   "outputs": [
    {
     "name": "stdout",
     "output_type": "stream",
     "text": [
      "Hello World!\n",
      "Hello World!\n",
      "Hello World!\n",
      "Hello Hello!\n",
      "我们是北京图灵学院，我们的网址是www.tulingxueyuan.com\n"
     ]
    }
   ],
   "source": [
    "# 不指定位置，按顺序读取\n",
    "s = '{} {}!'\n",
    "print(s.format('Hello','World'))\n",
    "\n",
    "s = '{} {}!'.format('Hello','World')\n",
    "print(s)\n",
    "\n",
    "# 设置指定位置\n",
    "s = '{0} {1}!'.format('Hello','World')\n",
    "print(s)\n",
    "\n",
    "s = '{0} {0}!'.format('Hello','World')\n",
    "print(s)\n",
    "\n",
    "# 以下案例会报错\n",
    "# s = 'I Love The {} and {} Loves Me'\n",
    "# print(s)\n",
    "\n",
    "# 使用命名参数\n",
    "s = '我们是{school_name}，我们的网址是{url}'\n",
    "s = s.format(school_name = '北京图灵学院', url = 'www.tulingxueyuan.com')\n",
    "print(s)"
   ]
  },
  {
   "cell_type": "code",
   "execution_count": 18,
   "metadata": {
    "scrolled": false
   },
   "outputs": [
    {
     "name": "stdout",
     "output_type": "stream",
     "text": [
      "我们是北京图灵学院，我们的网址是www.tulingxueyuan.com\n"
     ]
    }
   ],
   "source": [
    "# 通过字典设置参数需要解包\n",
    "\n",
    "s = '我们是{school_name}，我们的网址是{url}'\n",
    "s_dict = {'school_name' : '北京图灵学院', 'url' : 'www.tulingxueyuan.com'}\n",
    "# **是解包操作\n",
    "s = s.format(**s_dict)\n",
    "print(s)"
   ]
  },
  {
   "cell_type": "code",
   "execution_count": 19,
   "metadata": {},
   "outputs": [
    {
     "name": "stdout",
     "output_type": "stream",
     "text": [
      "I am 1.65m height, 46.6KG weight\n"
     ]
    }
   ],
   "source": [
    "# 对数字的格式化需要用到\n",
    "s = 'I am {:.2f}m height, {:.1f}KG weight'\n",
    "print(s.format(1.65, 46.57))\n",
    "\n",
    "# ^, <, > 分别是居中、左对齐、右对齐，后面带宽度， : 号后面带填充的字符，只能是一个字符，不指定则默认是用空格填充。\n",
    "# + 表示在正数前显示 +，负数前显示 -；  （空格）表示在正数前加空格\n",
    "# b、d、o、x 分别是二进制、十进制、八进制、十六进制。\n",
    "# 此外我们可以使用大括号 {} 来转义大括号"
   ]
  },
  {
   "cell_type": "markdown",
   "metadata": {},
   "source": [
    "### str内置函数  \n",
    "- 很多语言字符串使用string表示，但是python中使用str表示字符串"
   ]
  },
  {
   "cell_type": "code",
   "execution_count": 20,
   "metadata": {},
   "outputs": [
    {
     "name": "stdout",
     "output_type": "stream",
     "text": [
      "Help on class str in module builtins:\n",
      "\n",
      "class str(object)\n",
      " |  str(object='') -> str\n",
      " |  str(bytes_or_buffer[, encoding[, errors]]) -> str\n",
      " |  \n",
      " |  Create a new string object from the given object. If encoding or\n",
      " |  errors is specified, then the object must expose a data buffer\n",
      " |  that will be decoded using the given encoding and error handler.\n",
      " |  Otherwise, returns the result of object.__str__() (if defined)\n",
      " |  or repr(object).\n",
      " |  encoding defaults to sys.getdefaultencoding().\n",
      " |  errors defaults to 'strict'.\n",
      " |  \n",
      " |  Methods defined here:\n",
      " |  \n",
      " |  __add__(self, value, /)\n",
      " |      Return self+value.\n",
      " |  \n",
      " |  __contains__(self, key, /)\n",
      " |      Return key in self.\n",
      " |  \n",
      " |  __eq__(self, value, /)\n",
      " |      Return self==value.\n",
      " |  \n",
      " |  __format__(self, format_spec, /)\n",
      " |      Return a formatted version of the string as described by format_spec.\n",
      " |  \n",
      " |  __ge__(self, value, /)\n",
      " |      Return self>=value.\n",
      " |  \n",
      " |  __getattribute__(self, name, /)\n",
      " |      Return getattr(self, name).\n",
      " |  \n",
      " |  __getitem__(self, key, /)\n",
      " |      Return self[key].\n",
      " |  \n",
      " |  __getnewargs__(...)\n",
      " |  \n",
      " |  __gt__(self, value, /)\n",
      " |      Return self>value.\n",
      " |  \n",
      " |  __hash__(self, /)\n",
      " |      Return hash(self).\n",
      " |  \n",
      " |  __iter__(self, /)\n",
      " |      Implement iter(self).\n",
      " |  \n",
      " |  __le__(self, value, /)\n",
      " |      Return self<=value.\n",
      " |  \n",
      " |  __len__(self, /)\n",
      " |      Return len(self).\n",
      " |  \n",
      " |  __lt__(self, value, /)\n",
      " |      Return self<value.\n",
      " |  \n",
      " |  __mod__(self, value, /)\n",
      " |      Return self%value.\n",
      " |  \n",
      " |  __mul__(self, value, /)\n",
      " |      Return self*value.\n",
      " |  \n",
      " |  __ne__(self, value, /)\n",
      " |      Return self!=value.\n",
      " |  \n",
      " |  __repr__(self, /)\n",
      " |      Return repr(self).\n",
      " |  \n",
      " |  __rmod__(self, value, /)\n",
      " |      Return value%self.\n",
      " |  \n",
      " |  __rmul__(self, value, /)\n",
      " |      Return value*self.\n",
      " |  \n",
      " |  __sizeof__(self, /)\n",
      " |      Return the size of the string in memory, in bytes.\n",
      " |  \n",
      " |  __str__(self, /)\n",
      " |      Return str(self).\n",
      " |  \n",
      " |  capitalize(self, /)\n",
      " |      Return a capitalized version of the string.\n",
      " |      \n",
      " |      More specifically, make the first character have upper case and the rest lower\n",
      " |      case.\n",
      " |  \n",
      " |  casefold(self, /)\n",
      " |      Return a version of the string suitable for caseless comparisons.\n",
      " |  \n",
      " |  center(self, width, fillchar=' ', /)\n",
      " |      Return a centered string of length width.\n",
      " |      \n",
      " |      Padding is done using the specified fill character (default is a space).\n",
      " |  \n",
      " |  count(...)\n",
      " |      S.count(sub[, start[, end]]) -> int\n",
      " |      \n",
      " |      Return the number of non-overlapping occurrences of substring sub in\n",
      " |      string S[start:end].  Optional arguments start and end are\n",
      " |      interpreted as in slice notation.\n",
      " |  \n",
      " |  encode(self, /, encoding='utf-8', errors='strict')\n",
      " |      Encode the string using the codec registered for encoding.\n",
      " |      \n",
      " |      encoding\n",
      " |        The encoding in which to encode the string.\n",
      " |      errors\n",
      " |        The error handling scheme to use for encoding errors.\n",
      " |        The default is 'strict' meaning that encoding errors raise a\n",
      " |        UnicodeEncodeError.  Other possible values are 'ignore', 'replace' and\n",
      " |        'xmlcharrefreplace' as well as any other name registered with\n",
      " |        codecs.register_error that can handle UnicodeEncodeErrors.\n",
      " |  \n",
      " |  endswith(...)\n",
      " |      S.endswith(suffix[, start[, end]]) -> bool\n",
      " |      \n",
      " |      Return True if S ends with the specified suffix, False otherwise.\n",
      " |      With optional start, test S beginning at that position.\n",
      " |      With optional end, stop comparing S at that position.\n",
      " |      suffix can also be a tuple of strings to try.\n",
      " |  \n",
      " |  expandtabs(self, /, tabsize=8)\n",
      " |      Return a copy where all tab characters are expanded using spaces.\n",
      " |      \n",
      " |      If tabsize is not given, a tab size of 8 characters is assumed.\n",
      " |  \n",
      " |  find(...)\n",
      " |      S.find(sub[, start[, end]]) -> int\n",
      " |      \n",
      " |      Return the lowest index in S where substring sub is found,\n",
      " |      such that sub is contained within S[start:end].  Optional\n",
      " |      arguments start and end are interpreted as in slice notation.\n",
      " |      \n",
      " |      Return -1 on failure.\n",
      " |  \n",
      " |  format(...)\n",
      " |      S.format(*args, **kwargs) -> str\n",
      " |      \n",
      " |      Return a formatted version of S, using substitutions from args and kwargs.\n",
      " |      The substitutions are identified by braces ('{' and '}').\n",
      " |  \n",
      " |  format_map(...)\n",
      " |      S.format_map(mapping) -> str\n",
      " |      \n",
      " |      Return a formatted version of S, using substitutions from mapping.\n",
      " |      The substitutions are identified by braces ('{' and '}').\n",
      " |  \n",
      " |  index(...)\n",
      " |      S.index(sub[, start[, end]]) -> int\n",
      " |      \n",
      " |      Return the lowest index in S where substring sub is found, \n",
      " |      such that sub is contained within S[start:end].  Optional\n",
      " |      arguments start and end are interpreted as in slice notation.\n",
      " |      \n",
      " |      Raises ValueError when the substring is not found.\n",
      " |  \n",
      " |  isalnum(self, /)\n",
      " |      Return True if the string is an alpha-numeric string, False otherwise.\n",
      " |      \n",
      " |      A string is alpha-numeric if all characters in the string are alpha-numeric and\n",
      " |      there is at least one character in the string.\n",
      " |  \n",
      " |  isalpha(self, /)\n",
      " |      Return True if the string is an alphabetic string, False otherwise.\n",
      " |      \n",
      " |      A string is alphabetic if all characters in the string are alphabetic and there\n",
      " |      is at least one character in the string.\n",
      " |  \n",
      " |  isascii(self, /)\n",
      " |      Return True if all characters in the string are ASCII, False otherwise.\n",
      " |      \n",
      " |      ASCII characters have code points in the range U+0000-U+007F.\n",
      " |      Empty string is ASCII too.\n",
      " |  \n",
      " |  isdecimal(self, /)\n",
      " |      Return True if the string is a decimal string, False otherwise.\n",
      " |      \n",
      " |      A string is a decimal string if all characters in the string are decimal and\n",
      " |      there is at least one character in the string.\n",
      " |  \n",
      " |  isdigit(self, /)\n",
      " |      Return True if the string is a digit string, False otherwise.\n",
      " |      \n",
      " |      A string is a digit string if all characters in the string are digits and there\n",
      " |      is at least one character in the string.\n",
      " |  \n",
      " |  isidentifier(self, /)\n",
      " |      Return True if the string is a valid Python identifier, False otherwise.\n",
      " |      \n",
      " |      Use keyword.iskeyword() to test for reserved identifiers such as \"def\" and\n",
      " |      \"class\".\n",
      " |  \n",
      " |  islower(self, /)\n",
      " |      Return True if the string is a lowercase string, False otherwise.\n",
      " |      \n",
      " |      A string is lowercase if all cased characters in the string are lowercase and\n",
      " |      there is at least one cased character in the string.\n",
      " |  \n",
      " |  isnumeric(self, /)\n",
      " |      Return True if the string is a numeric string, False otherwise.\n",
      " |      \n",
      " |      A string is numeric if all characters in the string are numeric and there is at\n",
      " |      least one character in the string.\n",
      " |  \n",
      " |  isprintable(self, /)\n",
      " |      Return True if the string is printable, False otherwise.\n",
      " |      \n",
      " |      A string is printable if all of its characters are considered printable in\n",
      " |      repr() or if it is empty.\n",
      " |  \n",
      " |  isspace(self, /)\n",
      " |      Return True if the string is a whitespace string, False otherwise.\n",
      " |      \n",
      " |      A string is whitespace if all characters in the string are whitespace and there\n",
      " |      is at least one character in the string.\n",
      " |  \n",
      " |  istitle(self, /)\n",
      " |      Return True if the string is a title-cased string, False otherwise.\n",
      " |      \n",
      " |      In a title-cased string, upper- and title-case characters may only\n",
      " |      follow uncased characters and lowercase characters only cased ones.\n",
      " |  \n",
      " |  isupper(self, /)\n",
      " |      Return True if the string is an uppercase string, False otherwise.\n",
      " |      \n",
      " |      A string is uppercase if all cased characters in the string are uppercase and\n",
      " |      there is at least one cased character in the string.\n",
      " |  \n",
      " |  join(self, iterable, /)\n",
      " |      Concatenate any number of strings.\n",
      " |      \n",
      " |      The string whose method is called is inserted in between each given string.\n",
      " |      The result is returned as a new string.\n",
      " |      \n",
      " |      Example: '.'.join(['ab', 'pq', 'rs']) -> 'ab.pq.rs'\n",
      " |  \n",
      " |  ljust(self, width, fillchar=' ', /)\n",
      " |      Return a left-justified string of length width.\n",
      " |      \n",
      " |      Padding is done using the specified fill character (default is a space).\n",
      " |  \n",
      " |  lower(self, /)\n",
      " |      Return a copy of the string converted to lowercase.\n",
      " |  \n",
      " |  lstrip(self, chars=None, /)\n",
      " |      Return a copy of the string with leading whitespace removed.\n",
      " |      \n",
      " |      If chars is given and not None, remove characters in chars instead.\n",
      " |  \n",
      " |  partition(self, sep, /)\n",
      " |      Partition the string into three parts using the given separator.\n",
      " |      \n",
      " |      This will search for the separator in the string.  If the separator is found,\n",
      " |      returns a 3-tuple containing the part before the separator, the separator\n",
      " |      itself, and the part after it.\n",
      " |      \n",
      " |      If the separator is not found, returns a 3-tuple containing the original string\n",
      " |      and two empty strings.\n",
      " |  \n",
      " |  replace(self, old, new, count=-1, /)\n",
      " |      Return a copy with all occurrences of substring old replaced by new.\n",
      " |      \n",
      " |        count\n",
      " |          Maximum number of occurrences to replace.\n",
      " |          -1 (the default value) means replace all occurrences.\n",
      " |      \n",
      " |      If the optional argument count is given, only the first count occurrences are\n",
      " |      replaced.\n",
      " |  \n",
      " |  rfind(...)\n",
      " |      S.rfind(sub[, start[, end]]) -> int\n",
      " |      \n",
      " |      Return the highest index in S where substring sub is found,\n",
      " |      such that sub is contained within S[start:end].  Optional\n",
      " |      arguments start and end are interpreted as in slice notation.\n",
      " |      \n",
      " |      Return -1 on failure.\n",
      " |  \n",
      " |  rindex(...)\n",
      " |      S.rindex(sub[, start[, end]]) -> int\n",
      " |      \n",
      " |      Return the highest index in S where substring sub is found,\n",
      " |      such that sub is contained within S[start:end].  Optional\n",
      " |      arguments start and end are interpreted as in slice notation.\n",
      " |      \n",
      " |      Raises ValueError when the substring is not found.\n",
      " |  \n",
      " |  rjust(self, width, fillchar=' ', /)\n",
      " |      Return a right-justified string of length width.\n",
      " |      \n",
      " |      Padding is done using the specified fill character (default is a space).\n",
      " |  \n",
      " |  rpartition(self, sep, /)\n",
      " |      Partition the string into three parts using the given separator.\n",
      " |      \n",
      " |      This will search for the separator in the string, starting at the end. If\n",
      " |      the separator is found, returns a 3-tuple containing the part before the\n",
      " |      separator, the separator itself, and the part after it.\n",
      " |      \n",
      " |      If the separator is not found, returns a 3-tuple containing two empty strings\n",
      " |      and the original string.\n",
      " |  \n",
      " |  rsplit(self, /, sep=None, maxsplit=-1)\n",
      " |      Return a list of the words in the string, using sep as the delimiter string.\n",
      " |      \n",
      " |        sep\n",
      " |          The delimiter according which to split the string.\n",
      " |          None (the default value) means split according to any whitespace,\n",
      " |          and discard empty strings from the result.\n",
      " |        maxsplit\n",
      " |          Maximum number of splits to do.\n",
      " |          -1 (the default value) means no limit.\n",
      " |      \n",
      " |      Splits are done starting at the end of the string and working to the front.\n",
      " |  \n",
      " |  rstrip(self, chars=None, /)\n",
      " |      Return a copy of the string with trailing whitespace removed.\n",
      " |      \n",
      " |      If chars is given and not None, remove characters in chars instead.\n",
      " |  \n",
      " |  split(self, /, sep=None, maxsplit=-1)\n",
      " |      Return a list of the words in the string, using sep as the delimiter string.\n",
      " |      \n",
      " |      sep\n",
      " |        The delimiter according which to split the string.\n",
      " |        None (the default value) means split according to any whitespace,\n",
      " |        and discard empty strings from the result.\n",
      " |      maxsplit\n",
      " |        Maximum number of splits to do.\n",
      " |        -1 (the default value) means no limit.\n",
      " |  \n",
      " |  splitlines(self, /, keepends=False)\n",
      " |      Return a list of the lines in the string, breaking at line boundaries.\n",
      " |      \n",
      " |      Line breaks are not included in the resulting list unless keepends is given and\n",
      " |      true.\n",
      " |  \n",
      " |  startswith(...)\n",
      " |      S.startswith(prefix[, start[, end]]) -> bool\n",
      " |      \n",
      " |      Return True if S starts with the specified prefix, False otherwise.\n",
      " |      With optional start, test S beginning at that position.\n",
      " |      With optional end, stop comparing S at that position.\n",
      " |      prefix can also be a tuple of strings to try.\n",
      " |  \n",
      " |  strip(self, chars=None, /)\n",
      " |      Return a copy of the string with leading and trailing whitespace remove.\n",
      " |      \n",
      " |      If chars is given and not None, remove characters in chars instead.\n",
      " |  \n",
      " |  swapcase(self, /)\n",
      " |      Convert uppercase characters to lowercase and lowercase characters to uppercase.\n",
      " |  \n",
      " |  title(self, /)\n",
      " |      Return a version of the string where each word is titlecased.\n",
      " |      \n",
      " |      More specifically, words start with uppercased characters and all remaining\n",
      " |      cased characters have lower case.\n",
      " |  \n",
      " |  translate(self, table, /)\n",
      " |      Replace each character in the string using the given translation table.\n",
      " |      \n",
      " |        table\n",
      " |          Translation table, which must be a mapping of Unicode ordinals to\n",
      " |          Unicode ordinals, strings, or None.\n",
      " |      \n",
      " |      The table must implement lookup/indexing via __getitem__, for instance a\n",
      " |      dictionary or list.  If this operation raises LookupError, the character is\n",
      " |      left untouched.  Characters mapped to None are deleted.\n",
      " |  \n",
      " |  upper(self, /)\n",
      " |      Return a copy of the string converted to uppercase.\n",
      " |  \n",
      " |  zfill(self, width, /)\n",
      " |      Pad a numeric string with zeros on the left, to fill a field of the given width.\n",
      " |      \n",
      " |      The string is never truncated.\n",
      " |  \n",
      " |  ----------------------------------------------------------------------\n",
      " |  Static methods defined here:\n",
      " |  \n",
      " |  __new__(*args, **kwargs) from builtins.type\n",
      " |      Create and return a new object.  See help(type) for accurate signature.\n",
      " |  \n",
      " |  maketrans(x, y=None, z=None, /)\n",
      " |      Return a translation table usable for str.translate().\n",
      " |      \n",
      " |      If there is only one argument, it must be a dictionary mapping Unicode\n",
      " |      ordinals (integers) or characters to Unicode ordinals, strings or None.\n",
      " |      Character keys will be then converted to ordinals.\n",
      " |      If there are two arguments, they must be strings of equal length, and\n",
      " |      in the resulting dictionary, each character in x will be mapped to the\n",
      " |      character at the same position in y. If there is a third argument, it\n",
      " |      must be a string, whose characters will be mapped to None in the result.\n",
      "\n"
     ]
    }
   ],
   "source": [
    "help(str)"
   ]
  },
  {
   "cell_type": "markdown",
   "metadata": {},
   "source": [
    "#### None类型  \n",
    "- 表示没有，通常用来占位  \n",
    "- 比如返回，用来表示返回一个空  \n",
    "- 用来占位置\n",
    "- 用来解除变量绑定"
   ]
  },
  {
   "cell_type": "markdown",
   "metadata": {},
   "source": [
    "# 表达式\n",
    "- 由一个或者几个数字或者变量和运算符组合成的一行代码\n",
    "- 通常会返回一个结果\n",
    "\n",
    "# 运算符\n",
    "- 由一个以上的值经过变化得到新值的过程就叫运算\n",
    "- 用于运算的符号叫运算符\n",
    "- 运算符分类：\n",
    "    - 算数运算符\n",
    "    - 比较或者关系运算符\n",
    "    - 赋值运算符\n",
    "    - 逻辑运算符\n",
    "    - 位运算\n",
    "    - 成员运算\n",
    "    - 身份运算符  \n",
    "\n",
    "## 1.算数运算符  \n",
    "- 进行算数运算的符号\n",
    "- python没有自增自减运算符"
   ]
  },
  {
   "cell_type": "code",
   "execution_count": 1,
   "metadata": {},
   "outputs": [
    {
     "name": "stdout",
     "output_type": "stream",
     "text": [
      "11\n",
      "7\n",
      "18\n",
      "今天真好 今天真好 今天真好 \n",
      "4.5\n",
      "4\n",
      "1\n",
      "81\n"
     ]
    }
   ],
   "source": [
    "# 加减乘除\n",
    "a = 9 + 2\n",
    "print(a)\n",
    "\n",
    "b = 9 - 2\n",
    "print(b)\n",
    "\n",
    "c = 9 * 2\n",
    "print(c)\n",
    "\n",
    "# 字符串*数字代表重复字符串的次数\n",
    "print('今天真好 '*3)\n",
    "\n",
    "d = 9 / 2\n",
    "print(d)\n",
    "\n",
    "# 取整数：//\n",
    "e = 9 // 2\n",
    "print(e)\n",
    "\n",
    "# 取余数：%\n",
    "f = 9 % 2\n",
    "print(f)\n",
    "\n",
    "# 幂：** - 返回x的y次幂\n",
    "g = 9 ** 2\n",
    "print(g)"
   ]
  },
  {
   "cell_type": "markdown",
   "metadata": {},
   "source": [
    "## 2.比较运算符\n",
    "- 对两个变量或者值进行比较的运算符\n",
    "- 比较的结果是布尔值，即True/False"
   ]
  },
  {
   "cell_type": "code",
   "execution_count": 2,
   "metadata": {},
   "outputs": [
    {
     "name": "stdout",
     "output_type": "stream",
     "text": [
      "False\n",
      "True\n"
     ]
    }
   ],
   "source": [
    "# 等于 ==\n",
    "a = 3 == 4\n",
    "print(a)\n",
    "\n",
    "# 不等于 !=\n",
    "a = 3 != 4\n",
    "print(a)\n",
    "\n",
    "# 其他的符号：\n",
    "# >,>=,<,<="
   ]
  },
  {
   "cell_type": "markdown",
   "metadata": {},
   "source": [
    "## 3.赋值运算符  \n",
    "- 把一个值放到变量里面去  "
   ]
  },
  {
   "cell_type": "code",
   "execution_count": 4,
   "metadata": {},
   "outputs": [
    {
     "name": "stdout",
     "output_type": "stream",
     "text": [
      "3\n"
     ]
    }
   ],
   "source": [
    "# 赋值符号 = \n",
    "a = 9 \n",
    "\n",
    "# 复杂赋值  \n",
    "a = b = 9\n",
    "a,b = 1,2\n",
    "\n",
    "# 赋值的缩写：\n",
    "# +=,-=,*=,/=,//=,%=,**=\n",
    "cc = 0\n",
    "cc = cc + 3\n",
    "print(cc)"
   ]
  },
  {
   "cell_type": "markdown",
   "metadata": {},
   "source": [
    "## 4.逻辑运算符  \n",
    "- 对布尔类型的变量或者值进行运算的符号  \n",
    "- and:逻辑与  \n",
    "- or：逻辑或  \n",
    "- not：逻辑非  \n",
    "- 布尔值和数字的转化  \n",
    "    - 数字转化成布尔值的时候，0 = False，其余是True\n",
    "    - 布尔值转化成数字的时候，True = 1, False = 0\n",
    "- python里面的逻辑运算符没有异或  \n",
    "- 逻辑运算符的短路问题  \n",
    "    - 逻辑运算时，按照运算顺序计算，一旦能够确定整个式子未来的值，则不再进行计算，直接返回结果"
   ]
  },
  {
   "cell_type": "code",
   "execution_count": 5,
   "metadata": {
    "scrolled": true
   },
   "outputs": [
    {
     "name": "stdout",
     "output_type": "stream",
     "text": [
      "True\n",
      "False\n",
      "False\n"
     ]
    }
   ],
   "source": [
    "# 逻辑运算符：\n",
    "a = True\n",
    "b = True\n",
    "c = False\n",
    "\n",
    "aa = a and b\n",
    "print(aa)\n",
    "\n",
    "bb = a and c\n",
    "print(bb)\n",
    "\n",
    "# 布尔值和数字的转化\n",
    "cc = 100 and bb\n",
    "# 100转化成了 True\n",
    "print(cc)"
   ]
  },
  {
   "cell_type": "markdown",
   "metadata": {},
   "source": [
    "## 5.成员运算符  \n",
    "- 用来检测一个值或者变量是否在一个集合里面  \n",
    "- in：成员运算符  \n",
    "- not in：不在里面的意思  "
   ]
  },
  {
   "cell_type": "code",
   "execution_count": 6,
   "metadata": {},
   "outputs": [
    {
     "name": "stdout",
     "output_type": "stream",
     "text": [
      "False\n",
      "True\n"
     ]
    }
   ],
   "source": [
    "# in的使用\n",
    "b = [1,2,3,4,5]\n",
    "a = 6\n",
    "aa = a in b\n",
    "print(aa)\n",
    "\n",
    "bb = a not in b\n",
    "print(bb)"
   ]
  },
  {
   "cell_type": "markdown",
   "metadata": {},
   "source": [
    "##  6.身份运算符  \n",
    "- 用来确定两个变量是否是同一个变量  \n",
    "- is：变量运算符(语法就是  var1 is var2 )  \n",
    "- is not：不是\n",
    "- python中，对整数N\\in[-5,256]，解释器对他们做了单独的处理，放进了固定的内存中，不因每次运行变化。"
   ]
  },
  {
   "cell_type": "code",
   "execution_count": 7,
   "metadata": {},
   "outputs": [
    {
     "name": "stdout",
     "output_type": "stream",
     "text": [
      "False\n",
      "True\n"
     ]
    }
   ],
   "source": [
    "# 身份运算符\n",
    "# a,b仅仅是值一样，并不是代表a,b是一个变量\n",
    "a = 100989888\n",
    "b = 100989888\n",
    "\n",
    "aa = a is b\n",
    "print(aa)\n",
    "\n",
    "# python中，对整数N\\in[-5,256]，解释器对他们做了单独的处理，放进了固定的内存中，不因每次运行变化\n",
    "a = 5\n",
    "b = 5\n",
    "\n",
    "aa = a is b\n",
    "print(aa)"
   ]
  },
  {
   "cell_type": "markdown",
   "metadata": {},
   "source": [
    "## 7.运算符的优先级问题\n",
    "- 永远记住，括号具有最高优先级\n",
    "- 优先级表格  \n",
    "        **  指数 (最高优先级)  \n",
    "        ~ + -   按位翻转, 一元加号和减号 (最后两个的方法名为 +@ 和 -@)  \n",
    "        * / % //    乘，除，取模和取整除  \n",
    "        + - 加法减法  \n",
    "        >> <<   右移，左移运算符  \n",
    "        &   位 'AND'  \n",
    "        ^ | 位运算符  \n",
    "        <= < > >=   比较运算符  \n",
    "        <> == !=    等于运算符  \n",
    "        = %= /= //= -= += *= **=    赋值运算符  \n",
    "        is is not   身份运算符  \n",
    "        in not in   成员运算符  \n",
    "        not or and   逻辑运算符  "
   ]
  },
  {
   "cell_type": "code",
   "execution_count": null,
   "metadata": {},
   "outputs": [],
   "source": []
  }
 ],
 "metadata": {
  "kernelspec": {
   "display_name": "Python 3",
   "language": "python",
   "name": "python3"
  },
  "language_info": {
   "codemirror_mode": {
    "name": "ipython",
    "version": 3
   },
   "file_extension": ".py",
   "mimetype": "text/x-python",
   "name": "python",
   "nbconvert_exporter": "python",
   "pygments_lexer": "ipython3",
   "version": "3.7.3"
  },
  "pycharm": {
   "stem_cell": {
    "cell_type": "raw",
    "metadata": {
     "collapsed": false
    },
    "source": []
   }
  }
 },
 "nbformat": 4,
 "nbformat_minor": 2
}
