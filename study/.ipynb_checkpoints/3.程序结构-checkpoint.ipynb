{
 "cells": [
  {
   "cell_type": "markdown",
   "metadata": {},
   "source": [
    "# 程序结构  \n",
    "- 程序的三种结构  \n",
    "    - 顺序   \n",
    "    - 分支  \n",
    "    - 循环"
   ]
  },
  {
   "cell_type": "markdown",
   "metadata": {},
   "source": [
    "## 分支结构  \n",
    "- 条件表达式就是计算记过必须为布尔值的表达式  \n",
    "- 表达式后面的冒号不能少  \n",
    "- 注意if后面出现的语句，如果属于if语句块，则必须同一个缩进等级  \n",
    "- 条件表达式结果为True执行if后面的缩进语句块  \n",
    "- 分支结构的基本语法：  \n",
    "- 单分支：  \n",
    "        if 条件表达式:  \n",
    "        语句1  \n",
    "        语句2  \n",
    "        ...  \n",
    "- 双分支：  \n",
    "        if 条件表达式:  \n",
    "        语句1  \n",
    "        语句2  \n",
    "        ...  \n",
    "        else  \n",
    "        语句3  \n",
    "        语句4  \n",
    "- 多路分支：  \n",
    "        if 条件表达式:  \n",
    "        语句1  \n",
    "        语句2  \n",
    "        ...  \n",
    "        elif  \n",
    "        语句3  \n",
    "        语句4  \n",
    "        ...  \n",
    "        elif  \n",
    "        语句5  \n",
    "        语句6  \n",
    "        ...  \n",
    "        else"
   ]
  },
  {
   "cell_type": "code",
   "execution_count": 2,
   "metadata": {
    "scrolled": true
   },
   "outputs": [
    {
     "name": "stdout",
     "output_type": "stream",
     "text": [
      "先生：\n",
      "    欢迎光临！\n",
      "女士：\n",
      "欢迎光临！\n"
     ]
    }
   ],
   "source": [
    "# 单向分支\n",
    "\n",
    "a = 1\n",
    "if a == 1:\n",
    "    print('先生：')\n",
    "print('    欢迎光临！')\n",
    "\n",
    "# 双向分支\n",
    "\n",
    "a = 0\n",
    "if a == 1:\n",
    "    print('先生：')\n",
    "else:\n",
    "    print('女士：')\n",
    "print('欢迎光临！')\n"
   ]
  },
  {
   "cell_type": "code",
   "execution_count": null,
   "metadata": {},
   "outputs": [],
   "source": [
    "# input的作品\n",
    "# 1.在屏幕上输入括号内的字符串\n",
    "# 2.接受用户输入的内容并返回到程序\n",
    "# 3.input返回的内容一定是字符串类型\n",
    "\n",
    "gender = input('请输入您的性别：')\n",
    "print(gender)\n",
    "if gender == '男':\n",
    "    print('走，一起喝酒去')\n",
    "else:\n",
    "    print('对不起，我们不约')"
   ]
  },
  {
   "cell_type": "code",
   "execution_count": 2,
   "metadata": {},
   "outputs": [
    {
     "name": "stdout",
     "output_type": "stream",
     "text": [
      "请输入您的成绩：77\n",
      "中\n"
     ]
    }
   ],
   "source": [
    "# 考试成绩判断\n",
    "score = input('请输入您的成绩：')\n",
    "score = int(score)\n",
    "if score >= 90:\n",
    "    print('优秀')\n",
    "elif score >= 80 and score < 90:\n",
    "    print('良')\n",
    "elif score >= 70 and score < 80:\n",
    "    print('中')\n",
    "elif score >= 60 and score < 70:\n",
    "    print('平')\n",
    "else:\n",
    "    print('我没你这傻学生')"
   ]
  },
  {
   "cell_type": "markdown",
   "metadata": {},
   "source": [
    "## 循环语句  \n",
    "- 重复执行某一个固定的动作或任务  \n",
    "- 分类  \n",
    "    - for\n",
    "    - while\n",
    "\n",
    "### for循环  \n",
    "- 语法  \n",
    "        for 变量 in 序列:  \n",
    "        语句1  \n",
    "        语句2  \n",
    "        ...  "
   ]
  },
  {
   "cell_type": "code",
   "execution_count": 7,
   "metadata": {},
   "outputs": [
    {
     "name": "stdout",
     "output_type": "stream",
     "text": [
      "1\n",
      "101\n",
      "2\n",
      "102\n",
      "3\n",
      "103\n",
      "4\n",
      "104\n",
      "5\n",
      "105\n",
      "6\n",
      "106\n",
      "7\n",
      "107\n"
     ]
    }
   ],
   "source": [
    "# 列表知识以后讲\n",
    "\n",
    "list_one = [1,2,3,4,5,6,7]\n",
    "for shuzi in list_one:\n",
    "    print(shuzi)\n",
    "    print(shuzi + 100)"
   ]
  },
  {
   "cell_type": "markdown",
   "metadata": {},
   "source": [
    "#### for else语句  \n",
    "- for循环结束的时候，有时候需要执行一些收尾工作，此时需要用到else语句  \n",
    "- else语句可选  "
   ]
  },
  {
   "cell_type": "code",
   "execution_count": 9,
   "metadata": {},
   "outputs": [
    {
     "name": "stdout",
     "output_type": "stream",
     "text": [
      "很不错哦\n",
      "加油！你可以的\n",
      "加油！你可以的\n",
      "已经结束了哦\n"
     ]
    }
   ],
   "source": [
    "# 打印列表中的学生\n",
    "\n",
    "stu_list = ['张三','李四','王五']\n",
    "for stu in stu_list:\n",
    "    if stu == '张三':\n",
    "        print('很不错哦')\n",
    "    else:\n",
    "        print('加油！你可以的')\n",
    "else:\n",
    "    print('已经结束了哦')"
   ]
  },
  {
   "cell_type": "markdown",
   "metadata": {},
   "source": [
    "#### break，continue，pass  \n",
    "- break：无条件结束整个循环  \n",
    "- continue：满足条件后，结束本轮循环，继续下一轮循环  \n",
    "- pass：只是一个占位符\n"
   ]
  },
  {
   "cell_type": "code",
   "execution_count": 15,
   "metadata": {},
   "outputs": [
    {
     "name": "stdout",
     "output_type": "stream",
     "text": [
      "3\n",
      "4\n",
      "6\n",
      "hahaha，找到啦\n"
     ]
    }
   ],
   "source": [
    "# break语句练习\n",
    "# 确定一个数字队列是否包含数字7，只要确定就不再继续寻找\n",
    "\n",
    "dig_list = [3,4,6,7,3,23,2,4,7]\n",
    "for dig in dig_list:\n",
    "    if dig == 7:\n",
    "        print('hahaha，找到啦')\n",
    "        break\n",
    "    else:\n",
    "        print(dig)"
   ]
  },
  {
   "cell_type": "code",
   "execution_count": 24,
   "metadata": {},
   "outputs": [
    {
     "name": "stdout",
     "output_type": "stream",
     "text": [
      "哈哈，我是偶数\n",
      "哈哈，我是偶数\n",
      "哈哈，我是偶数\n",
      "哈哈，我是偶数\n",
      "哈哈，我是偶数\n"
     ]
    }
   ],
   "source": [
    "# continue 语句练习\n",
    "# 在数字1-10中，寻找所有偶数；\n",
    "\n",
    "dig_list = [1,2,3,4,5,6,7,8,9,10]\n",
    "for dig in dig_list:\n",
    "    if dig % 2 == 0:\n",
    "        print('哈哈，我是偶数')\n"
   ]
  },
  {
   "cell_type": "code",
   "execution_count": 28,
   "metadata": {},
   "outputs": [
    {
     "name": "stdout",
     "output_type": "stream",
     "text": [
      "你还小\n"
     ]
    }
   ],
   "source": [
    "# pass 语句练习\n",
    "\n",
    "age = 19\n",
    "if age < 19:\n",
    "    pass\n",
    "else:\n",
    "    print('你还小')"
   ]
  },
  {
   "cell_type": "markdown",
   "metadata": {},
   "source": [
    "#### range函数  \n",
    "- 生成有序数列  \n",
    "- 生成数字队列可以定制  \n",
    "- range生成的序列两个数字是左包括右不包括"
   ]
  },
  {
   "cell_type": "code",
   "execution_count": 32,
   "metadata": {},
   "outputs": [
    {
     "name": "stdout",
     "output_type": "stream",
     "text": [
      "1\n",
      "2\n",
      "3\n",
      "4\n",
      "5\n",
      "6\n",
      "7\n",
      "8\n",
      "9\n"
     ]
    }
   ],
   "source": [
    "# range 函数练习一\n",
    "# 生成一个1到100的数字序列\n",
    "\n",
    "dig_list = range(1,10)\n",
    "for dig in dig_list:\n",
    "    print(dig)"
   ]
  },
  {
   "cell_type": "code",
   "execution_count": 34,
   "metadata": {},
   "outputs": [
    {
     "name": "stdout",
     "output_type": "stream",
     "text": [
      "1\n",
      "2\n",
      "3\n",
      "4\n",
      "5\n",
      "6\n",
      "7\n",
      "8\n",
      "9\n"
     ]
    }
   ],
   "source": [
    "# range 函数练习二\n",
    "# 生成一个1到100的数字序列\n",
    "\n",
    "for dig in range(1,10):\n",
    "    print(dig)"
   ]
  },
  {
   "cell_type": "markdown",
   "metadata": {},
   "source": [
    "### while循环  \n",
    "- 一个循环语句  \n",
    "- 表示条件成立的时候就循环，适用于不知道具体循环次数，但能确定在某个条件成立的情况下就循环  \n",
    "- while的语法  \n",
    "        while 条件表达式:  \n",
    "        语句块  \n",
    "        #另一种表达方式  \n",
    "        while 条件表达式:  \n",
    "        语句块1  \n",
    "        else:  \n",
    "        语句块2"
   ]
  },
  {
   "cell_type": "code",
   "execution_count": 44,
   "metadata": {},
   "outputs": [
    {
     "name": "stdout",
     "output_type": "stream",
     "text": [
      "11\n",
      "11\n"
     ]
    }
   ],
   "source": [
    "# 如果年利率是6.7%，每年按复利计算，多少年本金翻倍\n",
    "\n",
    "benjin = 10000\n",
    "year = 0\n",
    "while benjin < 20000:\n",
    "    benjin = benjin * (1 + 0.067)\n",
    "    year = year + 1\n",
    "print(year)\n",
    "\n",
    "# 年利率案例2\n",
    "\n",
    "benjin = 10000\n",
    "year = 0\n",
    "while benjin < 20000:\n",
    "    benjin = benjin * (1 + 0.067)\n",
    "    year = year + 1\n",
    "else:\n",
    "    print(year)"
   ]
  }
 ],
 "metadata": {
  "kernelspec": {
   "display_name": "Python 3",
   "language": "python",
   "name": "python3"
  },
  "language_info": {
   "codemirror_mode": {
    "name": "ipython",
    "version": 3
   },
   "file_extension": ".py",
   "mimetype": "text/x-python",
   "name": "python",
   "nbconvert_exporter": "python",
   "pygments_lexer": "ipython3",
   "version": "3.7.3"
  }
 },
 "nbformat": 4,
 "nbformat_minor": 2
}
