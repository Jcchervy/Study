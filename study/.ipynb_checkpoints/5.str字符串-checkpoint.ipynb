{
 "cells": [
  {
   "cell_type": "markdown",
   "metadata": {},
   "source": [
    "# 字符串str  \n",
    "- str  \n",
    "- 转义字符  \n",
    "- 格式化  \n",
    "- 内建函数  \n",
    "\n",
    "## 字符串  \n",
    "- 表示文字信息  \n",
    "- 用单引号，双引号，三引号括起来"
   ]
  },
  {
   "cell_type": "code",
   "execution_count": 2,
   "metadata": {},
   "outputs": [
    {
     "name": "stdout",
     "output_type": "stream",
     "text": [
      "\n",
      "I\n",
      "Love\n",
      "You\n",
      "\n"
     ]
    }
   ],
   "source": [
    "s = '''\n",
    "I\n",
    "Love\n",
    "You\n",
    "'''\n",
    "print(s)"
   ]
  },
  {
   "cell_type": "markdown",
   "metadata": {},
   "source": [
    "## 转义字符  \n",
    "- 用一个特殊的方法表示出一系列不方便写出的内容，比如回车键，换行符，退格键  \n",
    "- 借助反斜杠字符，一旦字符中出现反斜杠，则反斜杠后面一个或者几个字符表示已经不是原来的意义了，进行了转义  \n",
    "- 在字符串中，一旦出现反斜杠就要加倍小心，可能有转义字符出现  \n",
    "- 不同操作系统换行操作有不同的表示  \n",
    "    - Windows：\\n  \n",
    "    - Linux：\\r\\n  \n",
    "- 常用的转义字符：  \n",
    "    - \\\\    (在行尾时)：续行符\n",
    "    - \\\\\\\t反斜杠符号  \n",
    "    - \\\\'\t单引号  \n",
    "    - \\\\\"\t双引号  \n",
    "    - \\\\a\t响铃  \n",
    "    - \\\\b\t退格(Backspace)  \n",
    "    - \\\\e\t转义  \n",
    "    - \\\\000\t空  \n",
    "    - \\\\n\t换行  \n",
    "    - \\\\v\t纵向制表符  \n",
    "    - \\\\t\t横向制表符  \n",
    "    - \\\\r\t回车  \n",
    "    - \\\\f\t换页  \n",
    "    - \\\\oyy\t八进制数，yy代表的字符，例如：\\o12代表换行  \n",
    "    - \\\\xyy\t十六进制数，yy代表的字符，例如：\\x0a代表换行  \n",
    "    - \\\\other\t其它的字符以普通格式输出  "
   ]
  },
  {
   "cell_type": "code",
   "execution_count": 18,
   "metadata": {},
   "outputs": [
    {
     "name": "stdout",
     "output_type": "stream",
     "text": [
      "Let's Go\n",
      "Let's Go\n",
      "c:\\User\\Jcchervy\n",
      "I\n",
      "Love\n",
      "You\n"
     ]
    }
   ],
   "source": [
    "# 转义字符的案例\n",
    "s = 'Let\\'s Go'\n",
    "print(s)\n",
    "\n",
    "# 使用单双引号嵌套\n",
    "s = \"Let's Go\"\n",
    "print(s)\n",
    "\n",
    "# 表示斜杠\n",
    "s = \"c:\\\\User\\\\Jcchervy\"\n",
    "print(s)\n",
    "\n",
    "# 回车换行\n",
    "s = \"I\\nLove\\nYou\"\n",
    "print(s)"
   ]
  },
  {
   "cell_type": "code",
   "execution_count": null,
   "metadata": {},
   "outputs": [],
   "source": []
  }
 ],
 "metadata": {
  "kernelspec": {
   "display_name": "Python 3",
   "language": "python",
   "name": "python3"
  },
  "language_info": {
   "codemirror_mode": {
    "name": "ipython",
    "version": 3
   },
   "file_extension": ".py",
   "mimetype": "text/x-python",
   "name": "python",
   "nbconvert_exporter": "python",
   "pygments_lexer": "ipython3",
   "version": "3.7.3"
  }
 },
 "nbformat": 4,
 "nbformat_minor": 2
}
